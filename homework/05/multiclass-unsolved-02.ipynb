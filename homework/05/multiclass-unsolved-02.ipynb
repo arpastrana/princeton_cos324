{
 "cells": [
  {
   "cell_type": "markdown",
   "metadata": {},
   "source": [
    "## PA4 - Multiclass Learning\n",
    "\n",
    "In this exercise you are required to design, implement, train, and test multiclass learning algorithms for the [MNIST](http://yann.lecun.com/exdb/mnist) dataset of images and the [20 Newsgroups](http://qwone.com/~jason/20Newsgroups) dataset of text news data. You will explore two different approaches to multiclass learning: *Cross Entropy*, a general loss appropriate for multiple classes, and *One-vs-All*, a reduction scheme from binary classification."
   ]
  },
  {
   "cell_type": "code",
   "execution_count": 1,
   "metadata": {},
   "outputs": [],
   "source": [
    "# Make sure to have the packages numpy, scikit-learn, and Tensorflow\n",
    "# installed before starting the assignment\n",
    "\n",
    "import time\n",
    "# import numpy first\n",
    "import numpy as np"
   ]
  },
  {
   "cell_type": "markdown",
   "metadata": {},
   "source": [
    "## The Losses\n",
    "\n",
    "In the case of Cross Entropy, denoted in short as **CE**, the supervision for an example $\\mathbf{x}\\in\\mathbb{R}^d$  is, instead of a label\n",
    "$y\\in[k]\\stackrel{\\tiny \\mathsf{def}}{=}\\{1,\\ldots,k\\}$, a vector $\\mathbf{y}\\in\\Delta^k$ where\n",
    "$$\\Delta^k = \\big\\{\\mathbf{p}=(p_1,\\ldots,p_k)\\, \\big| \\, \\sum_i p_i = 1\n",
    "   \\mbox{ and } \\forall i: p_i \\geq 0 \\big\\} ~.$$\n",
    "$\\Delta^k$ is called the k$^{th}$ dimensional simplex and, informally speaking, it consists of all probability vectors in $\\mathbb{R}^k$. The CE loss for a target probability vector $\\mathbf{y}$ and predicted probability vector $\\mathbf{\\hat{y}}$ is defined as follows,\n",
    "   $$\\ell_{CE}(\\mathbf{y, \\hat{y}}) \\stackrel{\\tiny \\mathsf{def}}{=}\n",
    "     \\sum_{i=1}^k y[i] \\log\\left(\\frac{y[i]}{\\hat{y}[i]}\\right) ~ .$$\n",
    "We use the convention that $0\\log(0)\\stackrel{\\tiny \\mathsf{def}}{=} 0$. To obtain the vector $\\mathbf{\\hat{y}}$ we exponentiate the vector of predictions $\\mathbf{z} = W\\mathbf{x} \\in \\mathbb{R}^k$ where $\\mathbf{\\hat{y}}[i] = \\frac{\\exp({\\mathbf{z}[i]})}{Z}$ for all $i \\in [k]$ and $Z$ ensures that $\\mathbf{\\hat{y}}\\in \\Delta^k $.\n",
    "\n",
    "The One-vs-All, or **OvA**, approach instead uses $k$ logistic binary classifiers: the idea is to pick the label that has been *most confidently* chosen for the given example versus the rest. Formally, the loss can be expressed as follows. Given $(\\mathbf{x},y)\\in\\mathbb{R}^d\\times[k]$ let us define $\\mathbf{\\bar{y}}\\in\\{-1,1\\}^k$ as the vector of labels resulting from the multiclass reduction. That is, $\\mathbf{\\bar{y}}[y]=1$ and for all $j\\neq y$ we set $\\mathbf{\\bar{y}}[j]=-1$. Then the loss for $(\\mathbf{x},y)$, with $\\mathbf{z}$ defined as before, is\n",
    "$$\n",
    "\\ell_{OvA}(\\mathbf{\\bar{y}}, \\mathbf{z}) = \\sum_{j=1}^k \\log\\big(1+ e^{-\\mathbf{\\bar{y}}[j] \\, \\mathbf{z}[j]}\\big) ~ .\n",
    "$$"
   ]
  },
  {
   "cell_type": "markdown",
   "metadata": {},
   "source": [
    "Z∈R is a constant number, and it is there to make sure that after exponentiation of the vector z the vector y^ belongs to Δk. More specifically, the constant Z ensures that ∑kj=1y^j=1.\n",
    "ACT 1 is asking you to provide an explicit formula for this constant Z (it will be in terms of the vector z)."
   ]
  },
  {
   "cell_type": "markdown",
   "metadata": {},
   "source": [
    "### ACT 1\n",
    "Compute the value of $Z$ explicitly.\n",
    "$$\n",
    "Z\n",
    "=\n",
    "\\sum_{i=1}^k\n",
    "\\exp({\\mathbf{z}[i]})\n",
    "$$\n",
    "\n",
    "To propose a method of computing $\\mathbf{\\hat{y}}$ from $\\mathbf{z}$ that is numerically stable, we should consider the scenarios where $\\mathbf{z}[i]<<0$ and $\\mathbf{z}[i]>>0$, which would result in underflow and overflow when doing the exponentiation, respectively.\n",
    "\n",
    "$$\n",
    "\\mathbf{z} = \\frac{\\mathbf{z}}{||\\mathbf{z}||}\n",
    "$$\n",
    "\n",
    "Then, I would proceed as stated above to calculate $\\mathbf{\\hat{y}}$."
   ]
  },
  {
   "cell_type": "code",
   "execution_count": 2,
   "metadata": {},
   "outputs": [
    {
     "name": "stdout",
     "output_type": "stream",
     "text": [
      "(1, 5)\n",
      "z [[833.15239561 556.1547979  874.09376817 551.31462488 306.19796393]]\n",
      "\n",
      "c 874.0937681700989\n",
      "bound z [[ -40.94137256 -317.93897027    0.         -322.77914329 -567.89580424]]\n",
      "exp(bound z) [[1.65724919e-018 8.33411772e-139 1.00000000e+000 6.58869186e-141\n",
      "  2.32266151e-247]]\n",
      "\n",
      "y_hat [[1.65724919e-018 8.33411772e-139 1.00000000e+000 6.58869186e-141\n",
      "  2.32266151e-247]]\n",
      "sum y_hat 1.0\n"
     ]
    }
   ],
   "source": [
    "def calculate_Z(z):\n",
    "    \"\"\"\n",
    "    \"\"\"\n",
    "    return np.sum(np.exp(z))\n",
    "\n",
    "def calculate_y_hat(z):\n",
    "    \"\"\"\n",
    "    \"\"\"\n",
    "    # z = bound_z(z)\n",
    "    Z = calculate_Z(z)\n",
    "    y = np.exp(z)\n",
    "    return y / Z\n",
    "\n",
    "def bound_z(z, axis=None):\n",
    "    \"\"\"\n",
    "    \"\"\"\n",
    "    c = np.amax(z, axis=axis)\n",
    "    print('c', c)\n",
    "    return z - np.amax(z, axis=axis)    \n",
    "\n",
    "\n",
    "# testing ACT 1\n",
    "z = np.random.rand(1, 5)\n",
    "z = z * 1000\n",
    "\n",
    "print(z.shape)\n",
    "print('z', z)\n",
    "\n",
    "print()\n",
    "z_bound = bound_z(z)\n",
    "print('bound z', z_bound)\n",
    "\n",
    "print('exp(bound z)', np.exp(z_bound))\n",
    "\n",
    "z = z_bound\n",
    "\n",
    "print()\n",
    "y_hat = calculate_y_hat(z)\n",
    "print('y_hat', y_hat)\n",
    "\n",
    "print('sum y_hat', np.sum(y_hat))"
   ]
  },
  {
   "cell_type": "markdown",
   "metadata": {},
   "source": [
    "Let $X \\in \\mathbb{R}^{n \\times d}$ be the given dataset and $\\mathbf{y} \\in [k]^n$ the corresponding labels. Construct one-hot vectors for each label to have a probability vector from $\\Delta^k$: the one-hot vector for the class $c \\in [k]$ if defined as $\\mathbf{1}_c \\in \\Delta^k$ which is a vector of zeros except for coordinate $c$ where it is $1$. For example, suppose $k=4$ and $c=2$, then $\\mathbf{1}_c$ is $(0, 1, 0, 0)$. When needed we will\n",
    "be smoothing the one-hot vectors for numerical purposes. The $\\epsilon$-smoothed one-hot vector for class $c$ is given by $(1-\\epsilon) \\mathbf{1}_c + \\epsilon \\mathbf{\\frac1k}$ where $\\mathbf{\\frac1k} \\in \\Delta^k$ is the uniform probability vector, namely $\\mathbf{\\frac1k} = (\\frac1k, \\frac1k, \\ldots, \\frac1k)$.\n",
    "\n",
    "ACT 2: Implement the `one_hot` function that given $\\mathbf{y} \\in [k]^n$ data of labels returns $Y \\in \\mathbb{R}^{n \\times k}$ matrix of one-hot vectors. **In the code, the labels $\\mathbf{y}$ are $0$-indexed, so you need to adjust accordingly.**"
   ]
  },
  {
   "cell_type": "code",
   "execution_count": 3,
   "metadata": {},
   "outputs": [
    {
     "name": "stdout",
     "output_type": "stream",
     "text": [
      "[[0]\n",
      " [4]\n",
      " [4]\n",
      " [3]\n",
      " [1]\n",
      " [3]\n",
      " [2]\n",
      " [4]\n",
      " [4]\n",
      " [2]]\n",
      "(10, 1)\n",
      "[[1. 0. 0. 0. 0.]\n",
      " [0. 0. 0. 0. 1.]\n",
      " [0. 0. 0. 0. 1.]\n",
      " [0. 0. 0. 1. 0.]\n",
      " [0. 1. 0. 0. 0.]\n",
      " [0. 0. 0. 1. 0.]\n",
      " [0. 0. 1. 0. 0.]\n",
      " [0. 0. 0. 0. 1.]\n",
      " [0. 0. 0. 0. 1.]\n",
      " [0. 0. 1. 0. 0.]]\n",
      "[[9.999992e-01 2.000000e-07 2.000000e-07 2.000000e-07 2.000000e-07]\n",
      " [2.000000e-07 2.000000e-07 2.000000e-07 2.000000e-07 9.999992e-01]\n",
      " [2.000000e-07 2.000000e-07 2.000000e-07 2.000000e-07 9.999992e-01]\n",
      " [2.000000e-07 2.000000e-07 2.000000e-07 9.999992e-01 2.000000e-07]\n",
      " [2.000000e-07 9.999992e-01 2.000000e-07 2.000000e-07 2.000000e-07]\n",
      " [2.000000e-07 2.000000e-07 2.000000e-07 9.999992e-01 2.000000e-07]\n",
      " [2.000000e-07 2.000000e-07 9.999992e-01 2.000000e-07 2.000000e-07]\n",
      " [2.000000e-07 2.000000e-07 2.000000e-07 2.000000e-07 9.999992e-01]\n",
      " [2.000000e-07 2.000000e-07 2.000000e-07 2.000000e-07 9.999992e-01]\n",
      " [2.000000e-07 2.000000e-07 9.999992e-01 2.000000e-07 2.000000e-07]]\n"
     ]
    }
   ],
   "source": [
    "# Given y vector of labels, return matrix Y whose i-th row is the one-hot vector of label y_i \n",
    "# If eps is not 0, then need to compute the smoothed one-hot vectors instead\n",
    "# If k is 0, then need to infer its value instead\n",
    "def one_hot(y, k=0, eps=0):\n",
    "    \"\"\"\n",
    "    ACT 2\n",
    "    \"\"\"\n",
    "    n, _ = y.shape  # assuming y has shape (n x 1)\n",
    "    \n",
    "    if not k:\n",
    "        k = np.amax(y)  + 1\n",
    "    \n",
    "    Y = np.zeros((n, k))\n",
    "    col_indices = y[:, 0]\n",
    "    Y[np.arange(n), col_indices] = 1.0\n",
    "    \n",
    "    if eps:\n",
    "        Y = (1 - eps) * Y + (eps * 1 / k)\n",
    "    return Y\n",
    "\n",
    "\n",
    "# testing y hot\n",
    "y_test = np.random.randint(0, 5, size=(10, 1))\n",
    "print(y_test)\n",
    "print(y_test.shape)\n",
    "\n",
    "y_hot = one_hot(y_test)\n",
    "y_hot.shape\n",
    "\n",
    "print(y_hot)\n",
    "\n",
    "y_hot = one_hot(y_test, eps=1e-6)\n",
    "print(y_hot)"
   ]
  },
  {
   "cell_type": "markdown",
   "metadata": {},
   "source": [
    "You will first implement an abstract class for losses in general that has all the methods implemented except computing the loss value and the gradient. Then each of CE and OvA classes will implement their specific loss functions, and gradients separately. *Feel free to add your own methods to the class skeletons provided.*\n",
    "\n",
    "It is worth to note that label prediction in both cases is done by predicting the coordinate with the largest value in the vector $\\mathbf{z}$ as the label. In order to prevent the parameters from blowing up during training, we will implement methods `RowNorms` and `Project` to compute the norms of the rows of $W \\in \\mathbb{R}^{k \\times d}$ and their projections onto the sphere of radius $r$.\n",
    "\n",
    "ACT 3: Given a vector $\\mathbf{v} \\in \\mathbb{R}^d$, compute its projection onto the sphere $S_r = \\{ \\mathbf{u} \\in \\mathbb{R}^d \\, : \\, \\| \\mathbf{u} \\| \\leq r \\}$."
   ]
  },
  {
   "cell_type": "markdown",
   "metadata": {},
   "source": [
    "### ACT 3\n",
    "\n",
    "The projection of $\\mathbf{v}$ onto the sphere $S_r$ of radius $r$ would be given by:\n",
    "\n",
    "$$\n",
    "\\mathbf{v}_{proj}\n",
    "=\n",
    "r\n",
    "\\frac\n",
    "{\\mathbf{v}}\n",
    "{||\\mathbf{v}||}\n",
    "$$"
   ]
  },
  {
   "cell_type": "code",
   "execution_count": 4,
   "metadata": {},
   "outputs": [],
   "source": [
    "class GenericLoss:\n",
    "    def __init__(self, name=\"\", dims = [], W0 = []):\n",
    "        self.name = name\n",
    "        assert dims != [] or W0 != [], 'Must set dims or W0'\n",
    "        if W0 == []:\n",
    "            # self.W = np.zeros(dims) + 0.5\n",
    "            self.W = np.zeros(dims)\n",
    "        else:\n",
    "            self.W = W0\n",
    "        self.k, self.d = self.W.shape\n",
    "    \n",
    "    # set the parameter matrix to the given W\n",
    "    def Set(self, W):\n",
    "        \"\"\"\n",
    "        ACT 4\n",
    "        \"\"\"\n",
    "        self.W = W\n",
    "    \n",
    "    # get the parameter matrix of the instance\n",
    "    def Get(self):\n",
    "        \"\"\"\n",
    "        ACT 5\n",
    "        \"\"\"\n",
    "        return self.W\n",
    "    \n",
    "    # update the parameter matrix by adding given dW\n",
    "    def Update(self, dW):\n",
    "        \"\"\"\n",
    "        ACT 6\n",
    "        \"\"\"\n",
    "        self.W += dW  # assuming matrix shapes are compatible\n",
    "    \n",
    "    # compute the norms of the rows of the parameter matrix\n",
    "    def RowNorms(self):\n",
    "        \"\"\"\n",
    "        ACT 7\n",
    "        \"\"\"\n",
    "        return self.norm_rows(self.W)\n",
    "    \n",
    "    # compute the projection of each of the rows to the sphere of radius rad\n",
    "    def Project(self, rad):\n",
    "        \"\"\"\n",
    "        ACT 8\n",
    "        \"\"\"\n",
    "        scale = rad / self.RowNorms()\n",
    "        scale[scale > 1.0] = 1.0  # TO-DO: scale > 1 or scale > rad?\n",
    "        self.W *= scale\n",
    "    \n",
    "    # compute the numerical predictions (z values) given a data matrix X\n",
    "    def Predict(self, X):\n",
    "        \"\"\"\n",
    "        ACT 9\n",
    "\n",
    "        Returns\n",
    "        -------\n",
    "        Z : np.array(n x k)\n",
    "            A matrix of predictions Z.\n",
    "        \"\"\"\n",
    "        scores = np.einsum('ij,kj->ki', self.W, X)\n",
    "        return scores\n",
    "    \n",
    "    # compute the label predictions given a data matrix X\n",
    "    def PredictLabels(self, X):\n",
    "        \"\"\"\n",
    "        ACT 10\n",
    "        \n",
    "        Returns\n",
    "        -------\n",
    "        labels : np.array(1 x n)\n",
    "            A vector with the argmax of matrix Z, over all rows.\n",
    "        \"\"\"\n",
    "        labels = np.argmax(self.Predict(X), axis=1)  # or axis 1?\n",
    "        labels = labels.reshape((-1, 1))\n",
    "        return labels\n",
    "    \n",
    "    # compute the classification error given a data matrix X, and label vector y\n",
    "    def Error(self, X, y):\n",
    "        \"\"\"\n",
    "        ACT 11\n",
    "        \n",
    "        Error is the sum of all missed predictions. For each one of them, +1.\n",
    "        \n",
    "        Returns\n",
    "        -------\n",
    "        e : scalar\n",
    "            The cumulative error.\n",
    "        \"\"\"\n",
    "        # y = y.reshape((1, -1))\n",
    "        labels = self.PredictLabels(X)\n",
    "        # e = (y != labels).astype(int)\n",
    "        e = (y != labels)\n",
    "        return np.sum(e) / labels.size\n",
    "        \n",
    "    @staticmethod\n",
    "    def norm_rows(A):\n",
    "        \"\"\"\n",
    "        Returns\n",
    "        -------\n",
    "        norm : np.array(1 x dim_b)\n",
    "        \"\"\"\n",
    "        return np.linalg.norm(A, axis=1, keepdims=True)  # TO-DO: what shape should this be?\n",
    "\n",
    "    def normalize_rows(self, A):\n",
    "        \"\"\"\n",
    "        Normalizes the rows of a matrix.\n",
    "        \n",
    "        Returns\n",
    "        -------\n",
    "        B : np.array\n",
    "            Normalized copy of A.\n",
    "        \"\"\"\n",
    "        norm = self.norm_rows(A)\n",
    "        if np.amax(norm) == 0.0:\n",
    "            print('equal')\n",
    "            return A\n",
    "        return A / norm\n",
    "\n",
    "    def Loss(self, X, y):\n",
    "        pass\n",
    "    \n",
    "    def Gradient(self, X, y):\n",
    "        pass"
   ]
  },
  {
   "cell_type": "markdown",
   "metadata": {},
   "source": [
    "To implement the specific losses, you simply need to compute the loss value itself given $X \\in \\mathbb{R}^{n \\times d}, \\mathbf{y} \\in [k]^n$ and the parameter matrix $W \\in \\mathbb{R}^{k \\times d}$ as well as the gradient of that loss with respect to $W$. Let us first express $\\ell^{\\mathsf{CE}}$ and $\\ell^{\\mathsf{OvA}}$ in terms of $X, \\mathbf{y}, W$.\n",
    "\n",
    "$$\\ell^{\\mathsf{CE}}(X, \\mathbf{y}, W) = \\frac{1}{n} \\sum_{i=1}^n \\ell_{CE}(\\mathbf{y}_i, \\hat{\\mathbf{y}}_i), \\quad \\ell^{\\mathsf{OvA}}(X, \\mathbf{y}, W) = \\frac{1}{n} \\sum_{i=1}^n \\ell_{OvA}(\\bar{\\mathbf{y}}_i, \\mathbf{z}_i) ~ .$$\n",
    "\n",
    "where for each $i \\in [n]$ the vectors $\\mathbf{y}_i$ are the rows of $Y =$ `one_hot`$(\\mathbf{y}) \\in \\mathbb{R}^{n \\times k}$, $\\bar{\\mathbf{y}}_i$ are the rows of $\\bar{Y} = (2Y - 1) \\in \\mathbb{R}^{n \\times k}$, $\\mathbf{z}_i$ are the rows of $\\mathbf{Z} = X W^{\\top} \\in \\mathbb{R}^{n \\times d}$, and $\\hat{\\mathbf{y}}_i = \\exp(\\mathbf{z}_i)/Z_i$ with $Z_i$ making sure $\\hat{\\mathbf{y}}_i \\in \\Delta^k$. The gradient computation can be done step-by-step using the chain rule.\n",
    "\n",
    "ACT 12: Compute the gradient of $\\ell^{\\mathsf{CE}}$ w.r.t. $W$, given by $\\nabla_W \\ell^{\\mathsf{CE}}$.\n",
    "\n",
    "Hint: First, show for a single $\\mathbf{y}, \\mathbf{\\hat{y}}, \\mathbf{z}$ that $\\nabla_{\\mathbf{z}} \\ell_{CE}(\\mathbf{y}, \\mathbf{\\hat{y}}) = \\mathbf{\\hat{y}} - \\mathbf{y}$ (simplify the loss function explicitly in terms of $\\mathbf{z}$ to make things easier). Afterwards, denoting $\\hat{Y} \\in \\mathbb{R}^{n \\times k}$ the matrix with rows $\\mathbf{\\hat{y}}_i$ for all $i \\in [n]$, conclude that $\\nabla_W \\ell^{\\mathsf{CE}}(X, \\mathbf{y}, W) = \\frac1n (\\hat{Y} - Y)^{\\top} X$.\n",
    "\n",
    "ACT 13: Compute the gradient of $\\ell^{\\mathsf{OvA}}$ w.r.t. $W$, given by $\\nabla_W \\ell^{\\mathsf{OvA}}$.\n",
    "\n",
    "Hint: First, show for a single $\\mathbf{\\bar{y}}, \\mathbf{z}$ that $\\nabla_{\\mathbf{z}} \\ell_{OvA}(\\mathbf{\\hat{y}}, \\mathbf{z}) = - \\frac{\\mathbf{\\hat{y}}}{1 + \\exp(\\mathbf{\\hat{y}} \\mathbf{z})}$ with all the operations in this expression being elementwise. Afterwards, conclude that $\\nabla_W \\ell^{\\mathsf{OvA}}(X, \\mathbf{y}, W) = - \\frac1n \\left( \\frac{\\bar{Y}}{1 + \\exp(\\bar{Y} \\mathbf{Z})} \\right)^{\\top} X$ again operations like multiplication, exponential division being elementwise."
   ]
  },
  {
   "cell_type": "code",
   "execution_count": 5,
   "metadata": {},
   "outputs": [],
   "source": [
    "class CrossEntropy(GenericLoss):\n",
    "\n",
    "    # In CE, the one-hot vectors should be smoothed with the given eps parameter.\n",
    "    def __init__(self, name=\"CrossEntropy\", dims=[], W0=[], eps=1e-6):\n",
    "        super().__init__(name, dims, W0)\n",
    "        self.eps = eps\n",
    "    \n",
    "    def Loss(self, X, y, verbose=False):\n",
    "        \"\"\"\n",
    "        ACT 14\n",
    "        Compute the cross-entropy loss.\n",
    "        \n",
    "        Parameters\n",
    "        ----------\n",
    "        X : np.array(n x d)\n",
    "            The data matrix.\n",
    "        y : np.array(1 x n)\n",
    "            The labels vector.\n",
    "            \n",
    "        Returns\n",
    "        -------\n",
    "        loss : scalar\n",
    "            The value of the cross-entropy loss.\n",
    "        \"\"\"\n",
    "        Y = one_hot(y, k=self.k, eps=self.eps)  # n x k  \n",
    "        Y_hat = self.calculate_Y_hat(X, verbose=verbose)\n",
    "\n",
    "        loss = Y * np.log(Y / Y_hat)\n",
    "        loss_ce = np.sum(loss, axis=1)     \n",
    "        loss_CE = np.average(loss_ce)\n",
    "        \n",
    "        if verbose:\n",
    "            print('total Y', np.sum(Y))\n",
    "            print('total Y hat', np.sum(Y_hat))\n",
    "            print('total loss', np.sum(loss))\n",
    "            print('total loss ce', np.sum(loss_ce))\n",
    "            print('total loss ce', np.sum(loss_CE))\n",
    "        return loss_CE\n",
    "    \n",
    "    def Gradient(self, X, y):\n",
    "        \"\"\"\n",
    "        ACT 15\n",
    "        \n",
    "        Compute the gradient of the cross-entropy loss w.r.t to W.\n",
    "        \n",
    "        Parameters\n",
    "        ----------\n",
    "        X : np.array(n x d)\n",
    "            The data matrix.\n",
    "        y : np.array(1 x n)\n",
    "            The labels vector.\n",
    "        \n",
    "        Returns\n",
    "        -------\n",
    "        grad : np.array(k x d)\n",
    "            The matrix gradient of the cross-entropy loss function.\n",
    "        \"\"\"\n",
    "        n, d = X.shape\n",
    "        Y = one_hot(y, k=self.k, eps=self.eps)  # n x k\n",
    "        \n",
    "        Y_hat = self.calculate_Y_hat(X)\n",
    "        Y_temp = Y_hat - Y\n",
    "        \n",
    "        # (1 / n) * (Y_matrix - Yhat_matrix)^T * X\n",
    "        grad = np.einsum('ij,ik->jk', Y_temp, X)  # k x d\n",
    "        # grad = np.matmul(np.transpose(Y_temp), X)\n",
    "        return  grad / n\n",
    "\n",
    "    def calculate_Y_hat(self, X, verbose=False):\n",
    "        \"\"\"\n",
    "        Computes the Y_hat matrix.\n",
    "        \n",
    "        Returns\n",
    "        ------\n",
    "        Y_hat : np.array(n x k)\n",
    "            The Y_hat matrix.\n",
    "        \"\"\"\n",
    "        Z = self.Predict(X)  # n x k  \n",
    "        labels = self.PredictLabels(X)\n",
    "        Z -= labels\n",
    "    \n",
    "        Y_hat_1 = np.exp(Z)  # n x k\n",
    "        Z_sum = np.sum(Y_hat_1, axis=1).reshape((-1, 1))\n",
    "    \n",
    "        Y_hat = Y_hat_1 / Z_sum # constrain to simplex  ### check this! before commenting it, tests did not pass\n",
    "        # Y_hat = Y_hat_1 / np.average(Y_hat_1, axis=0)  # constrain to simplex  ### check this! before commenting it, tests did not pass\n",
    "        \n",
    "        if verbose:\n",
    "            print('****Inside Y hat****')\n",
    "            print('Z', Z)\n",
    "            print('total Z', np.sum(Z))\n",
    "            print('Y hat non div', Y_hat_1)\n",
    "            print('total Y hat not div', np.sum(Y_hat_1))\n",
    "            \n",
    "            print('Y hat div', Y_hat)\n",
    "            print('total Y hat not div', np.sum(Y_hat))\n",
    "            print('****Leaving Y hat****')\n",
    "        return Y_hat\n",
    "\n",
    "    \n",
    "class LogisticOvA(GenericLoss):\n",
    "    def __init__(self, name=\"LogisticOvA\", dims=[], W0=[]):\n",
    "        super().__init__(name, dims, W0)\n",
    "\n",
    "    def Loss(self, X, y, verbose=False):\n",
    "        \"\"\"\n",
    "        ACT 16\n",
    "        \n",
    "        Computes the one-versus-all loss. Operations are element-wise.\n",
    "        \n",
    "        Parameters\n",
    "        ----------\n",
    "        X : np.array(n x d)\n",
    "            The data matrix.\n",
    "        y : np.array(1 x n)\n",
    "            The labels vector.\n",
    "            \n",
    "        Returns\n",
    "        -------\n",
    "        loss : scalar\n",
    "            The value of the cross-entropy loss.\n",
    "        \"\"\"\n",
    "        Y = one_hot(y, k=self.k)  # n x k\n",
    "        Y_dash = self.calculate_Y_dash(Y)\n",
    "        \n",
    "        Z = self.Predict(X)  # n x k\n",
    "        #  Z = self.normalize_rows(Z)  # TO-DO: Test with and without normalization\n",
    "\n",
    "        power = -1 * Y_dash * Z\n",
    "        loss = np.log(1 + np.exp(power))\n",
    "        loss_ova = np.sum(loss, axis=1)\n",
    "        loss_OVA = np.average(loss_ova)\n",
    "        return loss_OVA\n",
    "        \n",
    "    def Gradient(self, X, y):\n",
    "        \"\"\"\n",
    "        ACT 17\n",
    "        \n",
    "        Compute the gradient of the  one-versus-all loss w.r.t to W.\n",
    "        \n",
    "        Parameters\n",
    "        ----------\n",
    "        X : np.array(n x d)\n",
    "            The data matrix.\n",
    "        y : np.array(1 x n)\n",
    "            The labels vector.\n",
    "        \n",
    "        Returns\n",
    "        -------\n",
    "        grad : np.array(k x d)\n",
    "            The matrix gradient of the cross-entropy loss function.\n",
    "        \"\"\"\n",
    "        n, d = X.shape\n",
    "        Y = one_hot(y, k=self.k)  # n x k\n",
    "        Y_dash = self.calculate_Y_dash(Y)\n",
    "        Z = self.Predict(X)  # n x k\n",
    "        #  Z = self.normalize_rows(Z)  # TO-DO: Test with and without normalization\n",
    "        \n",
    "        A = 1 + np.exp(Y_dash * Z)\n",
    "        B = Y_dash / A\n",
    "        grad =  -1 * np.einsum('ij,ik->jk', B, X) / n\n",
    "        return grad\n",
    "    \n",
    "    def calculate_Y_dash(self, Y):\n",
    "        \"\"\"\n",
    "        Computes the Y_dash matrix.\n",
    "        \n",
    "        Returns\n",
    "        ------\n",
    "        Y_dash : np.array(n x k)\n",
    "            The Y_dash matrix.\n",
    "        \"\"\"\n",
    "        return 2 * Y - 1.0"
   ]
  },
  {
   "cell_type": "markdown",
   "metadata": {},
   "source": [
    "After implementing the two loss classes, we will test them the following way:\n",
    "\n",
    "(i) the loss of random labels should be larger than the loss of the assigned labels (the result of `PredictLabels`);\n",
    "\n",
    "(ii) the gradient with random labels should have a bigger norm than that with the assigned labels;\n",
    "\n",
    "(iii) the gradient norm should decrease after a single small gradient step."
   ]
  },
  {
   "cell_type": "code",
   "execution_count": 6,
   "metadata": {},
   "outputs": [
    {
     "name": "stdout",
     "output_type": "stream",
     "text": [
      "CE Test Passed\n",
      "Logistic OvA Test Passed\n"
     ]
    }
   ],
   "source": [
    "# assert the 3 points above for the loss class given by loss_tested\n",
    "# after implementing make sure both CrossEntropy, LogisticOvA pass all tests\n",
    "def TestLoss(loss_tested):\n",
    "    n, d, k, tests = 100, 10, 7, 1000\n",
    "    test_loss = loss_tested(W0=[], dims=(k, d))\n",
    "    \n",
    "    # the number of tests is given by tests.\n",
    "    # for each test, generate random Gaussian matrices X, W of appropriate sizes.\n",
    "    for _ in range(tests):\n",
    "        X, W = np.random.randn(n, d), np.random.randn(k, d)\n",
    "        test_loss.Set(W)\n",
    "    \n",
    "        # assert that the loss value with the assigned labels y is smaller than that\n",
    "        # with labels uniformly random from the interval [0, k-1].\n",
    "        y, y_rand = test_loss.PredictLabels(X), np.random.randint(0, k, n).reshape((n, -1))\n",
    "        ### ACT 18: loss value on X with assigned labels y\n",
    "        loss1 = test_loss.Loss(X, y)\n",
    "        ### ACT 19: loss value on X with random labels y_rand\n",
    "        loss2 = test_loss.Loss(X, y_rand)\n",
    "        assert loss1 < loss2, \"Loss test failed (%f >= %f)\" % (loss1, loss2)\n",
    "    \n",
    "        # assert that the gradient norm with the assigned labels is smaller than that\n",
    "        # with labels uniformly random from the interval [0, k-1].\n",
    "        grad1 = test_loss.Gradient(X, y)\n",
    "        ### ACT 20: norm of the gradient with X and assigned labels y\n",
    "        norm_grad1 = np.linalg.norm(grad1, ord='fro')\n",
    "        ### ACT 21: norm of the gradient with X and random labels y_rand\n",
    "        grad2 = test_loss.Gradient(X, y_rand)\n",
    "        norm_grad2 = np.linalg.norm(grad2, ord='fro')\n",
    "        assert norm_grad1 < norm_grad2, \"Gradient norm test failed (%f >= %f)\" % (norm_grad1, norm_grad2)\n",
    "        \n",
    "        # assert that after making a single gradient step (in the opposite direction)\n",
    "        # the gradient norm decreases (choose a small step size).\n",
    "        test_loss.Update(-0.01 * grad1)\n",
    "        grad3 = test_loss.Gradient(X, y)\n",
    "        ### ACT 22: norm of the gradient with X and y after making a single gradient step\n",
    "        norm_grad3 = np.linalg.norm(grad3, ord='fro')\n",
    "        assert norm_grad3 < norm_grad1, \"Gradient step test failed (%f >= %f)\" % (norm_grad3, norm_grad1)\n",
    "    \n",
    "    return True\n",
    "\n",
    "LossTested = CrossEntropy\n",
    "if TestLoss(LossTested): print('CE Test Passed')\n",
    "\n",
    "LossTested = LogisticOvA\n",
    "if TestLoss(LossTested): print('Logistic OvA Test Passed')"
   ]
  },
  {
   "cell_type": "markdown",
   "metadata": {},
   "source": [
    "Below are methods from previous assignments for data processing and training. No need to reimplement these."
   ]
  },
  {
   "cell_type": "code",
   "execution_count": 7,
   "metadata": {},
   "outputs": [],
   "source": [
    "# Sample a mini-batch w/ or w/o replacement\n",
    "from numpy.random import randint\n",
    "from numpy.random import permutation\n",
    "class IndexSampler:\n",
    "    def __init__(self, d):\n",
    "        self.d = d\n",
    "        self.prm = None\n",
    "    \n",
    "    def sample_new_index(self, replace=0):\n",
    "        if replace:\n",
    "            return randint(self.d)\n",
    "        if self.prm is None:\n",
    "            self.prm = permutation(self.d)\n",
    "            self.head = 0\n",
    "        ind = self.prm[self.head]\n",
    "        self.head += 1\n",
    "        if self.head == self.d:\n",
    "            self.head = 0\n",
    "            self.prm = None\n",
    "        return ind"
   ]
  },
  {
   "cell_type": "code",
   "execution_count": 8,
   "metadata": {},
   "outputs": [],
   "source": [
    "# Create a vector of learning-rate values. Mode can be: 'fixed_t', 'linear_t', 'sqrt_t'\n",
    "# Internal shift_t parameter can/should be changed during experiments.\n",
    "def learning_rate_schedule(eta0, epochs, mode):\n",
    "    base_t = 10.0\n",
    "    if mode == 'fixed_t':\n",
    "        return eta0 * np.ones(epochs)\n",
    "    if mode == 'sqrt_t':\n",
    "        return eta0 * np.ones(epochs) / (base_t + np.sqrt(np.arange(epochs)))\n",
    "    if mode == 'linear_t':\n",
    "        return eta0 * np.ones(epochs) / (base_t + np.arange(epochs))\n",
    "    print('invalid mode for learning rate schedule: %s' % mode)"
   ]
  },
  {
   "cell_type": "code",
   "execution_count": 9,
   "metadata": {},
   "outputs": [],
   "source": [
    "def prepare_logistic_sgd_handle(batch_size, epochs, eta0, lr_mode, rad, replace, eps=None):\n",
    "    \"\"\"\n",
    "    Assembles parameters to train SGD algorithm.\n",
    "    \n",
    "    Returns\n",
    "    ------\n",
    "    handle : dict\n",
    "        The parameters dictionary.\n",
    "    \"\"\"\n",
    "    h = {}\n",
    "    h['pstr'] = 'Epoch: {0:2d}  Loss: {1:5.3f}  Error: {2:5.3f} %'\n",
    "    \n",
    "    h['rad'] = rad\n",
    "    h['replace'] = replace\n",
    "    h['eta0'] = eta0\n",
    "    \n",
    "    h['epochs'] = epochs\n",
    "    h['batch_size'] = batch_size\n",
    "    \n",
    "    h['lr_mode'] = lr_mode\n",
    "    h['eps'] = eps\n",
    "    return h"
   ]
  },
  {
   "cell_type": "code",
   "execution_count": 10,
   "metadata": {},
   "outputs": [],
   "source": [
    "# SGD with general loss class. h is the handle defined above.\n",
    "def SGD(X, y, Loss, params):\n",
    "    h = params\n",
    "    \n",
    "    pstr, rad, replace = h['pstr'], h['rad'], ['replace']\n",
    "    eta0, epochs, bs, lrmode = h['eta0'], h['epochs'], h['batch_size'], h['lr_mode']\n",
    "    \n",
    "    n, d = X.shape\n",
    "    nbs = int(n / bs)\n",
    "    k = np.amax(y) + 1\n",
    "    \n",
    "    ls = Loss(W0=[], dims=(k, d))\n",
    "    eps = h.get('eps')\n",
    "    if eps:\n",
    "        ls.eps = eps\n",
    "        \n",
    "    eta_t = learning_rate_schedule(eta0, epochs, lrmode)\n",
    "    losses = [ls.Loss(X, y, verbose=False)]\n",
    "    errors = [ls.Error(X, y)]\n",
    "    sampler = IndexSampler(nbs)\n",
    "\n",
    "    print('*** Logistic Regression SGD with {} Loss Began ***\\n'.format(ls.name))\n",
    "    print(pstr.format(0, losses[-1], errors[-1] * 100))\n",
    "\n",
    "    for e in range(1, epochs * nbs):\n",
    "        head = sampler.sample_new_index(replace) * bs\n",
    "        Xt, yt = X[head:head + bs], y[head:head + bs]\n",
    "        gw = ls.Gradient(Xt, yt)\n",
    "        ls.Update(-eta_t[e // nbs] * gw)\n",
    "    \n",
    "        if rad > 0:\n",
    "            ls.Project(rad)\n",
    "        \n",
    "        if e % nbs == 0:\n",
    "            losses.append(ls.Loss(X, y))\n",
    "            errors.append(ls.Error(X, y))\n",
    "        \n",
    "        if (e % (nbs * 10)) == 0:\n",
    "            print(pstr.format(e // nbs, losses[-1], errors[-1] * 100))\n",
    "\n",
    "    return ls, losses, errors"
   ]
  },
  {
   "cell_type": "code",
   "execution_count": 11,
   "metadata": {},
   "outputs": [
    {
     "name": "stderr",
     "output_type": "stream",
     "text": [
      "/Users/arpj/anaconda3/envs/cos324/lib/python3.7/site-packages/tensorflow/python/framework/dtypes.py:526: FutureWarning: Passing (type, 1) or '1type' as a synonym of type is deprecated; in a future version of numpy, it will be understood as (type, (1,)) / '(1,)type'.\n",
      "  _np_qint8 = np.dtype([(\"qint8\", np.int8, 1)])\n",
      "/Users/arpj/anaconda3/envs/cos324/lib/python3.7/site-packages/tensorflow/python/framework/dtypes.py:527: FutureWarning: Passing (type, 1) or '1type' as a synonym of type is deprecated; in a future version of numpy, it will be understood as (type, (1,)) / '(1,)type'.\n",
      "  _np_quint8 = np.dtype([(\"quint8\", np.uint8, 1)])\n",
      "/Users/arpj/anaconda3/envs/cos324/lib/python3.7/site-packages/tensorflow/python/framework/dtypes.py:528: FutureWarning: Passing (type, 1) or '1type' as a synonym of type is deprecated; in a future version of numpy, it will be understood as (type, (1,)) / '(1,)type'.\n",
      "  _np_qint16 = np.dtype([(\"qint16\", np.int16, 1)])\n",
      "/Users/arpj/anaconda3/envs/cos324/lib/python3.7/site-packages/tensorflow/python/framework/dtypes.py:529: FutureWarning: Passing (type, 1) or '1type' as a synonym of type is deprecated; in a future version of numpy, it will be understood as (type, (1,)) / '(1,)type'.\n",
      "  _np_quint16 = np.dtype([(\"quint16\", np.uint16, 1)])\n",
      "/Users/arpj/anaconda3/envs/cos324/lib/python3.7/site-packages/tensorflow/python/framework/dtypes.py:530: FutureWarning: Passing (type, 1) or '1type' as a synonym of type is deprecated; in a future version of numpy, it will be understood as (type, (1,)) / '(1,)type'.\n",
      "  _np_qint32 = np.dtype([(\"qint32\", np.int32, 1)])\n",
      "/Users/arpj/anaconda3/envs/cos324/lib/python3.7/site-packages/tensorflow/python/framework/dtypes.py:535: FutureWarning: Passing (type, 1) or '1type' as a synonym of type is deprecated; in a future version of numpy, it will be understood as (type, (1,)) / '(1,)type'.\n",
      "  np_resource = np.dtype([(\"resource\", np.ubyte, 1)])\n"
     ]
    }
   ],
   "source": [
    "# import matplotlib and get the mnist dataset from tensorflow.keras\n",
    "import matplotlib.pyplot as plt\n",
    "from tensorflow.keras.datasets import mnist as keras_mnist\n",
    "(X_train, y_train), (X_test, y_test) = keras_mnist.load_data()"
   ]
  },
  {
   "cell_type": "code",
   "execution_count": 12,
   "metadata": {},
   "outputs": [],
   "source": [
    "# normalize the data by subtracting the mean and dividing by std\n",
    "def normalize(X, bias=0):\n",
    "    n, d = X.shape\n",
    "    m = np.mean(X, axis=1).reshape(n, 1) * np.ones((1, d))\n",
    "    s = np.std(X, axis=1).reshape(n, 1) * np.ones((1, d))\n",
    "    Xn = (X - m) / s\n",
    "    if bias != 0:\n",
    "        Xn = np.hstack((Xn, bias * np.ones((n, 1))))\n",
    "    return Xn\n",
    "\n",
    "# flatten the images into d-dimensional vectors for training\n",
    "def flatten_images(X):\n",
    "    s = X.shape\n",
    "    n = s[0]\n",
    "    d = np.prod(s[1:])\n",
    "    return X.reshape(n, d)\n",
    "\n",
    "Xtr = normalize(flatten_images(X_train), bias = 1)\n",
    "Xte = normalize(flatten_images(X_test), bias = 1)"
   ]
  },
  {
   "cell_type": "code",
   "execution_count": 13,
   "metadata": {},
   "outputs": [
    {
     "name": "stdout",
     "output_type": "stream",
     "text": [
      "*** Logistic Regression SGD with CrossEntropy Loss Began ***\n",
      "\n",
      "Epoch:  0  Loss: 2.303  Error: 90.128 %\n",
      "Epoch: 10  Loss: 0.286  Error: 8.023 %\n",
      "Epoch: 20  Loss: 0.272  Error: 7.565 %\n",
      "Epoch: 30  Loss: 0.265  Error: 7.257 %\n",
      "Epoch: 40  Loss: 0.260  Error: 7.177 %\n",
      "Epoch: 50  Loss: 0.257  Error: 7.080 %\n",
      "Epoch: 60  Loss: 0.254  Error: 6.983 %\n",
      "Epoch: 70  Loss: 0.251  Error: 6.937 %\n",
      "Epoch: 80  Loss: 0.250  Error: 6.893 %\n",
      "Epoch: 90  Loss: 0.248  Error: 6.855 %\n",
      "Epoch: 100  Loss: 0.248  Error: 6.840 %\n",
      "Epoch: 110  Loss: 0.245  Error: 6.723 %\n",
      "Epoch: 120  Loss: 0.244  Error: 6.673 %\n",
      "Epoch: 130  Loss: 0.243  Error: 6.630 %\n",
      "Epoch: 140  Loss: 0.243  Error: 6.703 %\n",
      "Epoch: 150  Loss: 0.241  Error: 6.580 %\n",
      "Epoch: 160  Loss: 0.241  Error: 6.552 %\n",
      "Epoch: 170  Loss: 0.240  Error: 6.582 %\n",
      "Epoch: 180  Loss: 0.240  Error: 6.593 %\n",
      "Epoch: 190  Loss: 0.239  Error: 6.545 %\n",
      "Epoch: 200  Loss: 0.238  Error: 6.510 %\n",
      "Epoch: 210  Loss: 0.238  Error: 6.523 %\n",
      "Epoch: 220  Loss: 0.237  Error: 6.495 %\n",
      "Epoch: 230  Loss: 0.238  Error: 6.507 %\n",
      "Epoch: 240  Loss: 0.237  Error: 6.475 %\n",
      "Epoch: 250  Loss: 0.236  Error: 6.477 %\n",
      "Epoch: 260  Loss: 0.235  Error: 6.500 %\n",
      "Epoch: 270  Loss: 0.234  Error: 6.453 %\n",
      "Epoch: 280  Loss: 0.234  Error: 6.377 %\n",
      "Epoch: 290  Loss: 0.234  Error: 6.418 %\n",
      "Epoch: 300  Loss: 0.234  Error: 6.450 %\n",
      "Epoch: 310  Loss: 0.233  Error: 6.397 %\n",
      "Epoch: 320  Loss: 0.234  Error: 6.433 %\n",
      "Epoch: 330  Loss: 0.233  Error: 6.377 %\n",
      "Epoch: 340  Loss: 0.232  Error: 6.393 %\n",
      "Epoch: 350  Loss: 0.232  Error: 6.383 %\n",
      "Epoch: 360  Loss: 0.232  Error: 6.320 %\n",
      "Epoch: 370  Loss: 0.232  Error: 6.327 %\n",
      "Epoch: 380  Loss: 0.231  Error: 6.365 %\n",
      "Epoch: 390  Loss: 0.231  Error: 6.325 %\n",
      "Epoch: 400  Loss: 0.231  Error: 6.370 %\n",
      "Epoch: 410  Loss: 0.230  Error: 6.302 %\n",
      "Epoch: 420  Loss: 0.230  Error: 6.325 %\n",
      "Epoch: 430  Loss: 0.230  Error: 6.308 %\n",
      "Epoch: 440  Loss: 0.230  Error: 6.293 %\n",
      "Epoch: 450  Loss: 0.229  Error: 6.282 %\n",
      "Epoch: 460  Loss: 0.230  Error: 6.283 %\n",
      "Epoch: 470  Loss: 0.229  Error: 6.262 %\n",
      "Epoch: 480  Loss: 0.229  Error: 6.302 %\n",
      "Epoch: 490  Loss: 0.229  Error: 6.272 %\n",
      "*** Elapsed time: 13.02 minutes ***\n"
     ]
    }
   ],
   "source": [
    "### ACT 23\n",
    "# run SGD with CrossEntropy loss on the MNIST training data\n",
    "# batch size should be 1000, sampling with no replacement\n",
    "# number of epochs should be 500, sphere radius for W is 10.0\n",
    "# learning rate mode is sqrt_t with eta=1.0\n",
    "\n",
    "epochs = 500  # 500\n",
    "batch_size = 1000\n",
    "rad = 10.0\n",
    "lr_mode = 'sqrt_t'\n",
    "eta0 = 1.0\n",
    "replace = False\n",
    "eps = None  # 1e-6\n",
    "loss_ce = CrossEntropy\n",
    "\n",
    "start = time.time()\n",
    "y_train_ce = y_train.reshape((-1, 1))\n",
    "handle_ce = prepare_logistic_sgd_handle(batch_size, epochs, eta0, lr_mode, rad, replace, eps)\n",
    "w_ce, loss_ce, error_ce = SGD(Xtr, y_train_ce, loss_ce, handle_ce)\n",
    "\n",
    "print('*** Elapsed time: {} minutes ***'.format(round(((time.time() - start) / 60.0), 2)))"
   ]
  },
  {
   "cell_type": "code",
   "execution_count": 14,
   "metadata": {},
   "outputs": [
    {
     "name": "stdout",
     "output_type": "stream",
     "text": [
      "CE Test Loss: 0.263  CE Test Error: 7.220 %\n"
     ]
    },
    {
     "name": "stderr",
     "output_type": "stream",
     "text": [
      "/Users/arpj/anaconda3/envs/cos324/lib/python3.7/site-packages/ipykernel_launcher.py:4: DeprecationWarning: elementwise comparison failed; this will raise an error in the future.\n",
      "  after removing the cwd from sys.path.\n",
      "/Users/arpj/anaconda3/envs/cos324/lib/python3.7/site-packages/ipykernel_launcher.py:5: DeprecationWarning: elementwise comparison failed; this will raise an error in the future.\n",
      "  \"\"\"\n"
     ]
    }
   ],
   "source": [
    "### ACT 24\n",
    "# compute test error and loss\n",
    "\n",
    "W0 = w_ce.W\n",
    "loss_ce_test = CrossEntropy(W0=W0)\n",
    "\n",
    "y_test_ce = y_test.reshape((-1, 1))\n",
    "test_loss_ce = loss_ce_test.Loss(Xte, y_test_ce)\n",
    "test_err_ce = loss_ce_test.Error(Xte, y_test_ce)\n",
    "\n",
    "msg = 'CE Test Loss: {0:5.3f}  CE Test Error: {1:5.3f} %'\n",
    "print(msg.format(test_loss_ce, test_err_ce * 100))"
   ]
  },
  {
   "cell_type": "code",
   "execution_count": 15,
   "metadata": {},
   "outputs": [],
   "source": [
    "def plotter(fname, data_list, lnames=None):\n",
    "    for data in data_list:\n",
    "        plt.plot(range(1, 1 + len(data)), data, linewidth=2, linestyle='-')\n",
    "\n",
    "    if lnames:\n",
    "        plt.legend(tuple(lnames))\n",
    "    \n",
    "    plt.grid()    \n",
    "    plt.xlabel('Epoch', fontsize=14)\n",
    "    plt.ylabel(fname, fontsize=14)\n",
    "    plt.show()"
   ]
  },
  {
   "cell_type": "code",
   "execution_count": 16,
   "metadata": {},
   "outputs": [
    {
     "data": {
      "image/png": "[encoded data removed]",
      "text/plain": [
       "<Figure size 432x288 with 1 Axes>"
      ]
     },
     "metadata": {
      "needs_background": "light"
     },
     "output_type": "display_data"
    },
    {
     "data": {
      "image/png": "[encoded data removed]",
      "text/plain": [
       "<Figure size 432x288 with 1 Axes>"
      ]
     },
     "metadata": {
      "needs_background": "light"
     },
     "output_type": "display_data"
    }
   ],
   "source": [
    "### ACT 25\n",
    "# plot loss vs epochs, separately plot error vs epochs\n",
    "plotter('Loss', [loss_ce], ['loss SGD CE'])\n",
    "plotter('Error', [error_ce], ['error SGD CE'])"
   ]
  },
  {
   "cell_type": "code",
   "execution_count": 136,
   "metadata": {},
   "outputs": [
    {
     "name": "stdout",
     "output_type": "stream",
     "text": [
      "Confusion Matrix MNIST\n",
      "[[96.2  0.   0.4  0.4  0.1  1.1  0.9  0.3  0.4  0.1]\n",
      " [ 0.  95.8  0.9  0.5  0.   0.2  0.3  0.2  1.9  0.1]\n",
      " [ 0.7  1.3 86.7  2.9  0.9  0.6  1.4  0.9  4.1  0.5]\n",
      " [ 0.4  0.1  2.6 86.7  0.2  4.4  0.3  1.1  3.2  1. ]\n",
      " [ 0.2  0.2  0.8  0.4 89.6  0.2  1.1  0.8  1.4  5.3]\n",
      " [ 1.4  0.3  0.8  5.2  1.2 81.5  1.7  0.8  6.1  1. ]\n",
      " [ 1.2  0.3  1.6  0.2  1.2  2.3 92.2  0.2  0.8  0. ]\n",
      " [ 0.1  0.7  2.2  1.3  0.8  0.2  0.  88.6  0.6  5.6]\n",
      " [ 0.8  1.2  2.   3.9  1.2  5.2  1.2  1.  81.5  1.9]\n",
      " [ 0.7  0.6  0.2  1.5  5.3  1.   0.1  4.2  2.1 84.4]]\n"
     ]
    }
   ],
   "source": [
    "### ACT 26\n",
    "# using test data construct a confusion matrix C that is 10x10\n",
    "# C[i][j] indicates pct digit i was classified as j\n",
    "\n",
    "def confusion_matrix(loss_object, X, y):\n",
    "    \"\"\"\n",
    "    \"\"\"\n",
    "    Y_hat = loss_object.calculate_Y_hat(X)\n",
    "    n, k = Y_hat.shape\n",
    "    C = np.zeros((k, k))\n",
    "\n",
    "    for idx in range(k):\n",
    "        indices = np.nonzero(y == idx)\n",
    "        rows, cols = indices\n",
    "        y1 = Y_hat[rows, :]\n",
    "        y1 = np.average(y1, axis=0)\n",
    "        C[idx, :] = y1.round(3) * 100\n",
    "\n",
    "    return C\n",
    "\n",
    "# Y_hat = loss_ce_test.calculate_Y_hat(Xte)\n",
    "# n, k = Y_hat.shape\n",
    "# C = np.zeros((k, k))\n",
    "\n",
    "# for idx in range(k):\n",
    "#    indices = np.nonzero(y_test_ce == idx)\n",
    "#    rows, cols = indices\n",
    "#    y1 = Y_hat[rows, :]\n",
    "#    y1 = np.average(y1, axis=0)\n",
    "#    C[idx, :] = y1.round(3) * 100\n",
    "\n",
    "C_mnist = confusion_matrix(loss_ce_test, Xte, y_test_ce)\n",
    "\n",
    "# assert that each digit is most likely to be correctly classified\n",
    "assert np.array_equal(np.argmax(C_mnist, axis=1), np.arange(k))\n",
    "\n",
    "print('Confusion Matrix MNIST')\n",
    "print(C_mnist)"
   ]
  },
  {
   "cell_type": "code",
   "execution_count": 139,
   "metadata": {},
   "outputs": [
    {
     "data": {
      "image/png": "[encoded data removed]",
      "text/plain": [
       "<Figure size 720x720 with 2 Axes>"
      ]
     },
     "metadata": {
      "needs_background": "light"
     },
     "output_type": "display_data"
    }
   ],
   "source": [
    "# plot confusion matrix\n",
    "def plot_confusion_matrix(C, title=None):\n",
    "    \"\"\"\n",
    "    \"\"\"\n",
    "    a, b = C.shape\n",
    "    \n",
    "    fig, ax = plt.subplots(figsize=(10, 10))\n",
    "    im = ax.imshow(C)\n",
    "    im.set_clim(0, 100)\n",
    "    ax.grid(False)\n",
    "\n",
    "    ax.xaxis.set(ticks=list(range(a)), ticklabels=[str(x) for x in range(a)])\n",
    "    ax.yaxis.set(ticks=list(range(b)), ticklabels=[str(x) for x in range(b)])\n",
    "\n",
    "    for i in range(a):\n",
    "        for j in range(b):\n",
    "            ax.text(j, i, round(C[i, j], 2), ha='center', va='center', color='black', wrap=True)\n",
    "\n",
    "    plt.xlabel('Cluster', fontsize=14)\n",
    "    plt.ylabel('Cluster', fontsize=14)\n",
    "    plt.title(title, fontsize=24)\n",
    "    cbar = ax.figure.colorbar(im, ax=ax, format='%.0f')\n",
    "    plt.show()\n",
    "\n",
    "    \n",
    "plot_confusion_matrix(C_mnist, title='Confusion Matrix MNIST')"
   ]
  },
  {
   "cell_type": "code",
   "execution_count": 18,
   "metadata": {},
   "outputs": [
    {
     "name": "stdout",
     "output_type": "stream",
     "text": [
      "*** Logistic Regression SGD with LogisticOvA Loss Began ***\n",
      "\n",
      "Epoch:  0  Loss: 6.931  Error: 90.128 %\n",
      "Epoch: 10  Loss: 0.741  Error: 9.345 %\n",
      "Epoch: 20  Loss: 0.712  Error: 8.787 %\n",
      "Epoch: 30  Loss: 0.697  Error: 8.387 %\n",
      "Epoch: 40  Loss: 0.687  Error: 8.432 %\n",
      "Epoch: 50  Loss: 0.676  Error: 8.228 %\n",
      "Epoch: 60  Loss: 0.671  Error: 8.197 %\n",
      "Epoch: 70  Loss: 0.664  Error: 8.085 %\n",
      "Epoch: 80  Loss: 0.660  Error: 7.923 %\n",
      "Epoch: 90  Loss: 0.655  Error: 7.902 %\n",
      "Epoch: 100  Loss: 0.652  Error: 7.897 %\n",
      "Epoch: 110  Loss: 0.650  Error: 7.893 %\n",
      "Epoch: 120  Loss: 0.647  Error: 7.790 %\n",
      "Epoch: 130  Loss: 0.645  Error: 7.785 %\n",
      "Epoch: 140  Loss: 0.642  Error: 7.735 %\n",
      "Epoch: 150  Loss: 0.638  Error: 7.808 %\n",
      "Epoch: 160  Loss: 0.636  Error: 7.702 %\n",
      "Epoch: 170  Loss: 0.634  Error: 7.640 %\n",
      "Epoch: 180  Loss: 0.634  Error: 7.632 %\n",
      "Epoch: 190  Loss: 0.631  Error: 7.585 %\n",
      "Epoch: 200  Loss: 0.629  Error: 7.585 %\n",
      "Epoch: 210  Loss: 0.628  Error: 7.632 %\n",
      "Epoch: 220  Loss: 0.626  Error: 7.580 %\n",
      "Epoch: 230  Loss: 0.626  Error: 7.525 %\n",
      "Epoch: 240  Loss: 0.623  Error: 7.520 %\n",
      "Epoch: 250  Loss: 0.622  Error: 7.527 %\n",
      "Epoch: 260  Loss: 0.621  Error: 7.518 %\n",
      "Epoch: 270  Loss: 0.620  Error: 7.508 %\n",
      "Epoch: 280  Loss: 0.619  Error: 7.493 %\n",
      "Epoch: 290  Loss: 0.617  Error: 7.478 %\n",
      "Epoch: 300  Loss: 0.617  Error: 7.437 %\n",
      "Epoch: 310  Loss: 0.616  Error: 7.447 %\n",
      "Epoch: 320  Loss: 0.615  Error: 7.438 %\n",
      "Epoch: 330  Loss: 0.613  Error: 7.385 %\n",
      "Epoch: 340  Loss: 0.613  Error: 7.373 %\n",
      "Epoch: 350  Loss: 0.612  Error: 7.372 %\n",
      "Epoch: 360  Loss: 0.611  Error: 7.410 %\n",
      "Epoch: 370  Loss: 0.610  Error: 7.363 %\n",
      "Epoch: 380  Loss: 0.610  Error: 7.363 %\n",
      "Epoch: 390  Loss: 0.609  Error: 7.422 %\n",
      "Epoch: 400  Loss: 0.608  Error: 7.387 %\n",
      "Epoch: 410  Loss: 0.607  Error: 7.385 %\n",
      "Epoch: 420  Loss: 0.607  Error: 7.355 %\n",
      "Epoch: 430  Loss: 0.607  Error: 7.330 %\n",
      "Epoch: 440  Loss: 0.606  Error: 7.323 %\n",
      "Epoch: 450  Loss: 0.605  Error: 7.337 %\n",
      "Epoch: 460  Loss: 0.604  Error: 7.338 %\n",
      "Epoch: 470  Loss: 0.604  Error: 7.302 %\n",
      "Epoch: 480  Loss: 0.604  Error: 7.363 %\n",
      "Epoch: 490  Loss: 0.602  Error: 7.325 %\n",
      "*** Elapsed time: 8.36 minutes ***\n"
     ]
    }
   ],
   "source": [
    "### ACT 27\n",
    "# perform ACT 23-25 with LogisticOvA instead of CrossEntropy\n",
    "\n",
    "epochs = 500  # 500\n",
    "batch_size = 1000\n",
    "rad = 10.0\n",
    "lr_mode = 'sqrt_t'\n",
    "eta0 = 1.0\n",
    "replace = False\n",
    "loss_ova = LogisticOvA\n",
    "\n",
    "start = time.time()\n",
    "y_train_ova = y_train.reshape((-1, 1))\n",
    "handle_ova = prepare_logistic_sgd_handle(batch_size, epochs, eta0, lr_mode, rad, replace, eps)\n",
    "w_ova, loss_ova, error_ova = SGD(Xtr, y_train_ova, loss_ova, handle_ova)\n",
    "\n",
    "print('*** Elapsed time: {} minutes ***'.format(round(((time.time() - start) / 60.0), 2)))"
   ]
  },
  {
   "cell_type": "code",
   "execution_count": 20,
   "metadata": {},
   "outputs": [
    {
     "name": "stdout",
     "output_type": "stream",
     "text": [
      "OVA Test Loss: 0.630  OVA Test Error: 7.890 %\n"
     ]
    },
    {
     "name": "stderr",
     "output_type": "stream",
     "text": [
      "/Users/arpj/anaconda3/envs/cos324/lib/python3.7/site-packages/ipykernel_launcher.py:4: DeprecationWarning: elementwise comparison failed; this will raise an error in the future.\n",
      "  after removing the cwd from sys.path.\n",
      "/Users/arpj/anaconda3/envs/cos324/lib/python3.7/site-packages/ipykernel_launcher.py:5: DeprecationWarning: elementwise comparison failed; this will raise an error in the future.\n",
      "  \"\"\"\n"
     ]
    }
   ],
   "source": [
    "# Test loss OVA\n",
    "W0 = w_ova.W\n",
    "loss_ova_test = LogisticOvA(W0=W0)\n",
    "\n",
    "y_test_ova = y_test.reshape((-1, 1))\n",
    "test_loss_ova = loss_ova_test.Loss(Xte, y_test_ova)\n",
    "test_err_ova = loss_ova_test.Error(Xte, y_test_ova)\n",
    "\n",
    "msg = 'OVA Test Loss: {0:5.3f}  OVA Test Error: {1:5.3f} %'\n",
    "print(msg.format(test_loss_ova, test_err_ova * 100))"
   ]
  },
  {
   "cell_type": "code",
   "execution_count": 21,
   "metadata": {},
   "outputs": [
    {
     "data": {
      "image/png": "[encoded data removed]",
      "text/plain": [
       "<Figure size 432x288 with 1 Axes>"
      ]
     },
     "metadata": {
      "needs_background": "light"
     },
     "output_type": "display_data"
    },
    {
     "data": {
      "image/png": "[encoded data removed]",
      "text/plain": [
       "<Figure size 432x288 with 1 Axes>"
      ]
     },
     "metadata": {
      "needs_background": "light"
     },
     "output_type": "display_data"
    }
   ],
   "source": [
    "# plot loss OVA vs epochs, separately plot error OVA vs epochs\n",
    "plotter('Loss', [loss_ova], ['loss SGD OVA'])\n",
    "plotter('Error', [error_ova], ['error SGD OVA'])"
   ]
  },
  {
   "cell_type": "code",
   "execution_count": 32,
   "metadata": {},
   "outputs": [
    {
     "data": {
      "image/png": "[encoded data removed]",
      "text/plain": [
       "<Figure size 432x288 with 1 Axes>"
      ]
     },
     "metadata": {
      "needs_background": "light"
     },
     "output_type": "display_data"
    },
    {
     "data": {
      "image/png": "[encoded data removed]",
      "text/plain": [
       "<Figure size 432x288 with 1 Axes>"
      ]
     },
     "metadata": {
      "needs_background": "light"
     },
     "output_type": "display_data"
    }
   ],
   "source": [
    "# compare your results, conclude in 1 sentence\n",
    "# removing first loss\n",
    "plotter('Losses', [loss_ce[1:], loss_ova[1:]], ['loss SGD CE', 'loss SGD OVA'])\n",
    "plotter('Errors', [error_ce[1:], error_ova[1:]], ['error SGD CE', 'error SGD OVA'])"
   ]
  },
  {
   "cell_type": "markdown",
   "metadata": {},
   "source": [
    "### Conclusion Loss CE vs Loss OvA:\n",
    "With the same parameters, OvA took 35% less time to compute than CE in my CPU (around 8.4 and 13.1 min respectively).\n",
    "CE returns about 0.7% less error than OvA (7.2% vs. 7.9%) when classifying the X and ytest datasets, a marginal improvement.\n",
    "Overall, both losses follow the same trend."
   ]
  },
  {
   "cell_type": "code",
   "execution_count": 130,
   "metadata": {},
   "outputs": [],
   "source": [
    "# data processing for 20 newsgroups datasets already done for you.\n",
    "from sklearn.datasets import fetch_20newsgroups\n",
    "from collections import Counter\n",
    "\n",
    "def get_20newsgroups_data():\n",
    "    newsgroups_train = fetch_20newsgroups(subset='train')\n",
    "    newsgroups_test  = fetch_20newsgroups(subset='test')\n",
    "    return newsgroups_train, newsgroups_test\n",
    "\n",
    "def construct_vocabulary(data, vs):\n",
    "    vocab = Counter()\n",
    "    for text in data:\n",
    "        for word in text.split(' '):\n",
    "            vocab[word.lower()] += 1\n",
    "    word2index = dict(vocab.most_common(vs))\n",
    "    i = 0\n",
    "    for k in word2index.keys():\n",
    "        word2index[k] = i\n",
    "        i += 1\n",
    "    return word2index\n",
    "\n",
    "def text_to_vec(data, vocab):\n",
    "    def norm_rows(M):\n",
    "        return np.sqrt(np.sum(M * M, axis=1, keepdims=True))\n",
    "    def project_rows(M, r):\n",
    "        return M * np.minimum(r / norm_rows(M), 1.0)\n",
    "    n = len(data)\n",
    "    d = len(vocab)\n",
    "    X = np.zeros((n, d))\n",
    "    i = 0\n",
    "    for text in data:\n",
    "        for word in text.split(' '):\n",
    "            if word.lower() in vocab:\n",
    "                X[i, vocab[word.lower()]] += 1.0\n",
    "        i += 1\n",
    "    # Convert to log-frequencies and normalize to have ||X[i,*]||=1\n",
    "    X = project_rows(np.log(X + 1.0), 1.0)\n",
    "    return X"
   ]
  },
  {
   "cell_type": "code",
   "execution_count": 132,
   "metadata": {},
   "outputs": [
    {
     "name": "stderr",
     "output_type": "stream",
     "text": [
      "Downloading 20news dataset. This may take a few minutes.\n",
      "Downloading dataset from https://ndownloader.figshare.com/files/5975967 (14 MB)\n"
     ]
    }
   ],
   "source": [
    "vsize = 1000\n",
    "\n",
    "train, test = get_20newsgroups_data()\n",
    "vocab = construct_vocabulary(train.data, vsize)\n",
    "Xtr_news = text_to_vec(train.data, vocab)\n",
    "Xte_news = text_to_vec(test.data, vocab)\n",
    "y_train_news = train.target\n",
    "y_test_news = test.target"
   ]
  },
  {
   "cell_type": "code",
   "execution_count": 143,
   "metadata": {},
   "outputs": [
    {
     "name": "stdout",
     "output_type": "stream",
     "text": [
      "*** Logistic Regression SGD with CrossEntropy Loss Began ***\n",
      "\n",
      "Epoch:  0  Loss: 2.996  Error: 95.757 %\n",
      "Epoch: 10  Loss: 1.315  Error: 32.013 %\n",
      "Epoch: 20  Loss: 1.060  Error: 26.321 %\n",
      "Epoch: 30  Loss: 0.952  Error: 23.007 %\n",
      "Epoch: 40  Loss: 0.925  Error: 21.310 %\n",
      "*** Elapsed time: 0.56 minutes ***\n"
     ]
    }
   ],
   "source": [
    "# you will perform the same experiments with this dataset\n",
    "### ACT 28\n",
    "# perform ACT 23-27 for the 20newsgroups dataset\n",
    "# all parameters for training should be the same except:\n",
    "# we will start with a much larger learning rate eta=1000.0\n",
    "# and a sphere radius 40.0\n",
    "\n",
    "handle_news_params = {\n",
    "'epochs': 500,  # 500\n",
    "'batch_size':1000,\n",
    "'rad': 40.0,\n",
    "'lr_mode': 'sqrt_t',\n",
    "'eta0': 1000.0,\n",
    "'replace': False,\n",
    "'eps': None  # 1e-6\n",
    "}\n",
    "\n",
    "start = time.time()\n",
    "loss_news_ce = CrossEntropy\n",
    "y_train_news_ce = y_train_news.reshape((-1, 1))\n",
    "handle_news_ce = prepare_logistic_sgd_handle(**handle_news_params)\n",
    "w_news_ce, loss_news_ce, error_news_ce = SGD(Xtr_news, y_train_news_ce, loss_news_ce, handle_news_ce)\n",
    "\n",
    "print('*** Elapsed time: {} minutes ***'.format(round(((time.time() - start) / 60.0), 2)))"
   ]
  },
  {
   "cell_type": "code",
   "execution_count": null,
   "metadata": {},
   "outputs": [],
   "source": [
    "# compute test error and loss\n",
    "\n",
    "W0_news = w_news_ce.W\n",
    "loss_news_ce_test = CrossEntropy(W0=W0_news)\n",
    "\n",
    "y_test_news_ce = y_test_news.reshape((-1, 1))\n",
    "test_loss_news_ce = loss_news_ce_test.Loss(Xte_news, y_test_news_ce)\n",
    "test_err_news_ce = loss_news_ce_test.Error(Xte_news, y_test_news_ce)\n",
    "\n",
    "msg = 'CE Test Loss: {0:5.3f}  CE Test Error: {1:5.3f} %'\n",
    "print(msg.format(test_loss_news_ce, test_err_news_ce * 100))"
   ]
  },
  {
   "cell_type": "code",
   "execution_count": null,
   "metadata": {},
   "outputs": [],
   "source": [
    "# plot loss vs epochs, separately plot error vs epochs\n",
    "\n",
    "plotter('Loss News', [loss_news_ce], ['loss news SGD CE'])\n",
    "plotter('Error News', [error_news_ce], ['error news SGD CE'])"
   ]
  },
  {
   "cell_type": "code",
   "execution_count": null,
   "metadata": {},
   "outputs": [],
   "source": []
  },
  {
   "cell_type": "code",
   "execution_count": null,
   "metadata": {},
   "outputs": [],
   "source": [
    "### ACT 29\n",
    "# after training, testing, and plotting make sure to compute the\n",
    "# row norms of the final parameters (mean and std), and conclude \n",
    "# in one sentence whether the results were as you expected"
   ]
  }
 ],
 "metadata": {
  "kernelspec": {
   "display_name": "Python 3",
   "language": "python",
   "name": "python3"
  },
  "language_info": {
   "codemirror_mode": {
    "name": "ipython",
    "version": 3
   },
   "file_extension": ".py",
   "mimetype": "text/x-python",
   "name": "python",
   "nbconvert_exporter": "python",
   "pygments_lexer": "ipython3",
   "version": "3.7.6"
  }
 },
 "nbformat": 4,
 "nbformat_minor": 4
}
