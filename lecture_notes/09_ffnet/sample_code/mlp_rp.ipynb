{
 "cells": [
  {
   "cell_type": "code",
   "execution_count": 17,
   "metadata": {},
   "outputs": [
    {
     "data": {
      "text/plain": [
       "array([[ 0.16, -0.28, -0.39, -0.27, -0.21,  0.23, -0.03,  0.23],\n",
       "       [ 0.13,  0.31,  0.53,  0.3 ,  0.28, -0.3 ,  0.23, -0.05]])"
      ]
     },
     "execution_count": 17,
     "metadata": {},
     "output_type": "execute_result"
    }
   ],
   "source": [
    "from numpy.random import randn\n",
    "import numpy as np\n",
    "\n",
    "# Fanin normalized random matrix generator\n",
    "def rand_matrix(m, n):\n",
    "   return randn(m, n) / np.sqrt(m)  # sqrt important for initialization, to have an expectation\n",
    "\n",
    "# Create & initialize MLP from specification\n",
    "def MLP(dims):\n",
    "  As = []  # transformations\n",
    "  Bs = []  # biases\n",
    "  d = len(dims) - 1\n",
    "  for i in range(d):\n",
    "    As.append(rand_matrix(dims[i], dims[i+1]))\n",
    "    Bs.append(0.1 * rand_matrix(1, dims[i+1]))  # 0.1 initialize bias in a low scale, to not affect much at initialization\n",
    "  return (As, Bs)\n",
    "\n",
    "def predict(net, X, act):\n",
    "  As, Bs = net\n",
    "  d = len(As)\n",
    "  H = X  # initial layer\n",
    "\n",
    "  for cd in range(d):\n",
    "    # H is of size examples x layer size \n",
    "    # to add B, np does broadcasting\n",
    "    # H resulting is of initial size of B\n",
    "    # act of H just performs act(H(i, j))\n",
    "    H = act(H @ As[cd] + Bs[cd])  # moving forward on layers. changing stuff in plance\n",
    "  return H\n",
    "\n",
    "dims = [5, 3, 3, 2]\n",
    "net = MLP(dims)\n",
    "X = np.random.randn(8, dims[0])\n",
    "\n",
    "np.round(predict(net, X, np.tanh), decimals=2).transpose()"
   ]
  },
  {
   "cell_type": "code",
   "execution_count": 16,
   "metadata": {},
   "outputs": [
    {
     "data": {
      "text/plain": [
       "-5.551115123125783e-17"
      ]
     },
     "execution_count": 16,
     "metadata": {},
     "output_type": "execute_result"
    }
   ],
   "source": [
    "# np.tanh. we use it because it is well behaved\n",
    "# transforms inputs to -1 to 1\n",
    "# from -0.5 to 0.5 behaves as a linear function\n",
    "z = 0.3\n",
    "np.tanh(z) - (np.exp(z) - np.exp(-z)) / (np.exp(z) + np.exp(-z))"
   ]
  },
  {
   "cell_type": "markdown",
   "metadata": {},
   "source": [
    "Derivative of $$tanh{'}(z) =  1 - tanh^2(z)$$"
   ]
  },
  {
   "cell_type": "code",
   "execution_count": 14,
   "metadata": {},
   "outputs": [
    {
     "data": {
      "text/plain": [
       "[<matplotlib.lines.Line2D at 0x120c4e4a8>]"
      ]
     },
     "execution_count": 14,
     "metadata": {},
     "output_type": "execute_result"
    },
    {
     "data": {
      "image/png": "[encoded data removed]",
      "text/plain": [
       "<Figure size 432x288 with 1 Axes>"
      ]
     },
     "metadata": {
      "needs_background": "light"
     },
     "output_type": "display_data"
    }
   ],
   "source": [
    "act = np.tanh\n",
    "act(0.4)\n",
    "r = np.arange(-10, 11, 0.01)\n",
    "t = act(r)\n",
    "\n",
    "import matplotlib.pyplot as plt\n",
    "plt.plot(r, t)"
   ]
  },
  {
   "cell_type": "code",
   "execution_count": null,
   "metadata": {},
   "outputs": [],
   "source": []
  }
 ],
 "metadata": {
  "kernelspec": {
   "display_name": "Python 3",
   "language": "python",
   "name": "python3"
  },
  "language_info": {
   "codemirror_mode": {
    "name": "ipython",
    "version": 3
   },
   "file_extension": ".py",
   "mimetype": "text/x-python",
   "name": "python",
   "nbconvert_exporter": "python",
   "pygments_lexer": "ipython3",
   "version": "3.7.1"
  }
 },
 "nbformat": 4,
 "nbformat_minor": 4
}
