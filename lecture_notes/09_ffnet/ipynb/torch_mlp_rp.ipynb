{
 "cells": [
  {
   "cell_type": "code",
   "execution_count": 1,
   "metadata": {},
   "outputs": [],
   "source": [
    "def myplot(r):\n",
    "  import matplotlib.pyplot as plt\n",
    "  plt.close()\n",
    "  plt.ion()\n",
    "  plt.grid()\n",
    "  _ = plt.xlabel('Epoch', fontsize=12)\n",
    "  _ = plt.ylabel('Loss', fontsize=12)\n",
    "  plt.plot(r, linewidth=2, linestyle='-', marker='o')\n",
    "  plt.show(block=False)"
   ]
  },
  {
   "cell_type": "code",
   "execution_count": 5,
   "metadata": {},
   "outputs": [
    {
     "name": "stdout",
     "output_type": "stream",
     "text": [
      "Bummer no GPU\n"
     ]
    }
   ],
   "source": [
    "import torch\n",
    "\n",
    "torch.set_default_dtype(torch.float)\n",
    "# cuda interprets to machine language\n",
    "\n",
    "if not torch.cuda.is_available():\n",
    "  print('Bummer no GPU')\n",
    "  dev = torch.device(\"cpu\")\n",
    "else:\n",
    "  print('Yay: I have a GPU to keep me warm when it is cold')\n",
    "  dev = torch.device(\"cuda:0\")\n",
    "\n",
    "# Create & initialize MLP from specification\n",
    "def D2MLP(xdim, hdim, rg=False):\n",
    "  A = torch.randn(xdim, hdim, device=dev, requires_grad=rg) / np.sqrt(xdim)\n",
    "  b = torch.randn(hdim, device=dev, requires_grad=rg)\n",
    "  w = torch.randn(hdim, device=dev, requires_grad=rg)\n",
    "  return (A, b, w)\n",
    "\n",
    "# Inference using tanh as activatrion\n",
    "def D2predict(net, X):\n",
    "  A, b, w = net\n",
    "  return torch.tanh(X @ A + 0.1 * b) @ w   # bias is scaled by 0.1. what we get is a scalar as output"
   ]
  },
  {
   "cell_type": "code",
   "execution_count": 7,
   "metadata": {},
   "outputs": [],
   "source": [
    "# Log-loss using log1p\n",
    "def loss(y, p):\n",
    "  return torch.mean(torch.log1p(torch.exp(-y * p)))  # log1p is log(x) + x . double check\n",
    "\n",
    "def D2Train(X, y, net):\n",
    "  epochs, rate = 1000, 5.0\n",
    "  A, b, w = net\n",
    "  losses = []\n",
    "  for i in range(epochs):\n",
    "    p = D2predict(net, X)\n",
    "    l = loss(y, p)\n",
    "    losses.append(l.item())\n",
    "    l.backward()\n",
    "    with torch.no_grad():\n",
    "      A -= rate * A.grad\n",
    "      b -= rate * b.grad\n",
    "      w -= rate * w.grad\n",
    "      # Manually zero gradients post update\n",
    "      A.grad.zero_()\n",
    "      b.grad.zero_()\n",
    "      w.grad.zero_()\n",
    "  return losses"
   ]
  },
  {
   "cell_type": "code",
   "execution_count": 4,
   "metadata": {},
   "outputs": [
    {
     "data": {
      "image/png": "[encoded data removed]",
      "text/plain": [
       "<Figure size 432x288 with 1 Axes>"
      ]
     },
     "metadata": {
      "needs_background": "light"
     },
     "output_type": "display_data"
    }
   ],
   "source": [
    "n, d, h = 1000, 100, 50\n",
    "\n",
    "X = torch.randn(n, d, device=dev)  # data matrix\n",
    "y = torch.tanh(torch.randn(n, device=dev))  # random targets vectors\n",
    "\n",
    "net_gen = D2MLP(d, h, rg=False)  # network for generation. a simulator to generate targets\n",
    "y_gen = D2predict(net_gen, X)  # y vectors generated\n",
    "\n",
    "net_trn = D2MLP(d, h, rg=True)  # for training, rg = True\n",
    "losses = D2Train(X, y, net_trn) \n",
    "\n",
    "myplot(losses)"
   ]
  },
  {
   "cell_type": "code",
   "execution_count": null,
   "metadata": {},
   "outputs": [],
   "source": []
  }
 ],
 "metadata": {
  "kernelspec": {
   "display_name": "Python 3",
   "language": "python",
   "name": "python3"
  },
  "language_info": {
   "codemirror_mode": {
    "name": "ipython",
    "version": 3
   },
   "file_extension": ".py",
   "mimetype": "text/x-python",
   "name": "python",
   "nbconvert_exporter": "python",
   "pygments_lexer": "ipython3",
   "version": "3.7.6"
  }
 },
 "nbformat": 4,
 "nbformat_minor": 4
}
