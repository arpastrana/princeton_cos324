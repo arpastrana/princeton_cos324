{
 "cells": [
  {
   "cell_type": "code",
   "execution_count": 1,
   "metadata": {},
   "outputs": [
    {
     "data": {
      "text/plain": [
       "array([[-0.55,  0.06, -0.34,  0.25,  0.19, -0.31, -0.08,  0.13],\n",
       "       [-0.82,  0.12, -0.58,  0.47,  0.5 , -0.52, -0.06,  0.4 ]])"
      ]
     },
     "execution_count": 1,
     "metadata": {},
     "output_type": "execute_result"
    }
   ],
   "source": [
    "from numpy.random import randn\n",
    "import numpy as np\n",
    "\n",
    "# Fanin normalized random matrix generator\n",
    "def rand_matrix(m, n):\n",
    "   return randn(m, n) / np.sqrt(m)\n",
    "\n",
    "# Create & initialize MLP from specification\n",
    "def MLP(dims):\n",
    "  As = []\n",
    "  Bs = []\n",
    "  d = len(dims) - 1\n",
    "  for i in range(d):\n",
    "    As.append(rand_matrix(dims[i], dims[i+1]))\n",
    "    Bs.append(0.1 * rand_matrix(1, dims[i+1]))\n",
    "  return (As, Bs)\n",
    "\n",
    "def predict(net, X, act):\n",
    "  As, Bs = net\n",
    "  d = len(As)\n",
    "  H = X\n",
    "  for cd in range(d):\n",
    "    H = act(H @ As[cd] + Bs[cd])\n",
    "  return H\n",
    "\n",
    "dims = [5, 3, 3, 2]\n",
    "net = MLP(dims)\n",
    "X = np.random.randn(8, dims[0])\n",
    "np.round(predict(net, X, np.tanh), decimals=2).transpose()"
   ]
  },
  {
   "cell_type": "code",
   "execution_count": null,
   "metadata": {},
   "outputs": [],
   "source": []
  }
 ],
 "metadata": {
  "kernelspec": {
   "display_name": "Python 3",
   "language": "python",
   "name": "python3"
  },
  "language_info": {
   "codemirror_mode": {
    "name": "ipython",
    "version": 3
   },
   "file_extension": ".py",
   "mimetype": "text/x-python",
   "name": "python",
   "nbconvert_exporter": "python",
   "pygments_lexer": "ipython3",
   "version": "3.7.1"
  }
 },
 "nbformat": 4,
 "nbformat_minor": 4
}
