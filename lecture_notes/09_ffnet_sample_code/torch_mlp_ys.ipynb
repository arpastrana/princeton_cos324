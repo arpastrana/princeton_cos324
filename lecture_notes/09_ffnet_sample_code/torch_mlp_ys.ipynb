{
 "cells": [
  {
   "cell_type": "markdown",
   "metadata": {},
   "source": [
    "### Import PyTorch, set default type to float, check for an accelerator "
   ]
  },
  {
   "cell_type": "code",
   "execution_count": 11,
   "metadata": {},
   "outputs": [
    {
     "name": "stdout",
     "output_type": "stream",
     "text": [
      "Yay: I have a GPU to keep me warm when it is cold\n"
     ]
    }
   ],
   "source": [
    "import torch as T\n",
    "from math import sqrt\n",
    "\n",
    "T.set_default_dtype(T.float)\n",
    "\n",
    "if not T.cuda.is_available():\n",
    "  print('Bummer no GPU')\n",
    "  dev = T.device(\"cpu\")\n",
    "else:\n",
    "  print('Yay: I have a GPU to keep me warm when it is cold')\n",
    "  dev = T.device(\"cuda:0\")"
   ]
  },
  {
   "cell_type": "markdown",
   "metadata": {},
   "source": [
    "### Create & initialize MLP from specification:\n",
    "  1. Create a matrix or vector of the designated dimensions\n",
    "  2. Intialize the weights of each element to be i.i.d normally distributed with varying variances [see class notes]\n",
    "  3. Specificy for each variable whether it is leaenable (rg=True) or fixed (rg=False)"
   ]
  },
  {
   "cell_type": "code",
   "execution_count": 12,
   "metadata": {},
   "outputs": [],
   "source": [
    "def D2MLP(xdim, hdim, rg=False):\n",
    "  A = T.empty(xdim, hdim, device=dev, requires_grad=rg)\n",
    "  T.nn.init.normal_(A, mean=0., std=1./sqrt(xdim))\n",
    "  b = T.empty(hdim, device=dev, requires_grad=rg)\n",
    "  T.nn.init.normal_(b, mean=0., std=0.1/sqrt(xdim))\n",
    "  w = T.empty(hdim, device=dev, requires_grad=rg)\n",
    "  T.nn.init.normal_(b, mean=0., std=0.1/sqrt(xdim))\n",
    "  return (A, b, w)"
   ]
  },
  {
   "cell_type": "markdown",
   "metadata": {},
   "source": [
    "### Inference for a set of examples\n",
    "\n",
    "* $X$ is of dimension $n \\times d$\n",
    "* $\\mathbf{x}_i$ is the $i^{th}$ row of $X$ presented as a column vector\n",
    "* $A$ is a matrix of dimension $d \\times h$\n",
    "* $\\mathbf{b}$ is a vector of dimension $h$ \n",
    "* $\\mathbf{w}$ is a vector of dimension $h$\n",
    "* $\\sigma(z) = \\tanh(z) = \\frac{e^{z} - e^{-z}}{e^z + e ^{-z}}$\n",
    "$$\\Large \\mbox{Output of Network:} \\;\\; \\hat{y} = \\mathbf{w} \\cdot \\sigma(A^\\top \\mathbf{x_i} + b)$$"
   ]
  },
  {
   "cell_type": "code",
   "execution_count": 13,
   "metadata": {},
   "outputs": [],
   "source": [
    "def D2predict(net, X):\n",
    "  A, b, w = net\n",
    "  return T.tanh(X @ A + 0.1 * b) @ w"
   ]
  },
  {
   "cell_type": "markdown",
   "metadata": {},
   "source": [
    "### Loss $\\ell(y,\\hat{y}) = \\frac{1}{|S|} \\sum_{i\\in S} \\log(1 + e^{-y \\hat{y}})$"
   ]
  },
  {
   "cell_type": "code",
   "execution_count": 14,
   "metadata": {},
   "outputs": [],
   "source": [
    "def loss(y, p):\n",
    "  return T.mean(T.log1p(T.exp(-y * p)))"
   ]
  },
  {
   "cell_type": "markdown",
   "metadata": {},
   "source": [
    "### Training of a 2-layer (1-hidden layer) MLP"
   ]
  },
  {
   "cell_type": "code",
   "execution_count": 15,
   "metadata": {},
   "outputs": [],
   "source": [
    "def D2Train(X, y, net):\n",
    "  epochs, rate = 1000, 5.0\n",
    "  A, b, w = net # Unpack network variables\n",
    "  losses = []\n",
    "  for i in range(epochs):\n",
    "    # Forward / Inference\n",
    "    p = D2predict(net, X)\n",
    "    # Loss calculation\n",
    "    l = loss(y, p)\n",
    "    losses.append(l.item())\n",
    "    # Backprop / Gradient Calculation\n",
    "    l.backward()\n",
    "    with T.no_grad():\n",
    "      # Parameter updates\n",
    "      A -= rate * A.grad\n",
    "      b -= rate * b.grad\n",
    "      w -= rate * w.grad\n",
    "      # Manually zero gradients post update\n",
    "      A.grad.zero_()\n",
    "      b.grad.zero_()\n",
    "      w.grad.zero_()\n",
    "  return losses"
   ]
  },
  {
   "cell_type": "markdown",
   "metadata": {},
   "source": [
    "Plotting function used in the sequel"
   ]
  },
  {
   "cell_type": "code",
   "execution_count": 16,
   "metadata": {},
   "outputs": [],
   "source": [
    "def myplot(r, logscale=False):\n",
    "  import matplotlib.pyplot as plt\n",
    "  plt.close(), plt.ion(), plt.grid()\n",
    "  _ = plt.xlabel('Epoch', fontsize=12)\n",
    "  _ = plt.ylabel('Loss', fontsize=12)\n",
    "  plt.plot(r, linewidth=2, linestyle='-', marker='o')\n",
    "  if logscale: plt.xscale('log', basex=10.)\n",
    "  plt.show(block=False)"
   ]
  },
  {
   "cell_type": "markdown",
   "metadata": {},
   "source": [
    "### Experiment\n",
    "\n",
    "  1. Create a network as a described above\n",
    "  2. Create random target values $\\mathbf{y}$\n",
    "  3. Train\n",
    "  4. Plot losses"
   ]
  },
  {
   "cell_type": "code",
   "execution_count": 17,
   "metadata": {},
   "outputs": [
    {
     "data": {
      "image/png": "[encoded data removed]",
      "text/plain": [
       "<Figure size 432x288 with 1 Axes>"
      ]
     },
     "metadata": {
      "needs_background": "light"
     },
     "output_type": "display_data"
    },
    {
     "data": {
      "image/png": "[encoded data removed]",
      "text/plain": [
       "<Figure size 432x288 with 1 Axes>"
      ]
     },
     "metadata": {
      "needs_background": "light"
     },
     "output_type": "display_data"
    }
   ],
   "source": [
    "if T.cuda.is_available():\n",
    "  n, d, h = 10000, 1000, 100\n",
    "else:\n",
    "  n, d, h = 1000, 100, 10\n",
    "X = T.randn(n, d, device=dev)\n",
    "y = T.tanh(T.randn(n, device=dev))\n",
    "net = D2MLP(d, h, rg=True)\n",
    "losses = D2Train(X, y, net) \n",
    "\n",
    "myplot(losses, logscale=False)\n",
    "myplot(losses, logscale=True)"
   ]
  },
  {
   "cell_type": "code",
   "execution_count": null,
   "metadata": {},
   "outputs": [],
   "source": []
  }
 ],
 "metadata": {
  "kernelspec": {
   "display_name": "Python 3",
   "language": "python",
   "name": "python3"
  },
  "language_info": {
   "codemirror_mode": {
    "name": "ipython",
    "version": 3
   },
   "file_extension": ".py",
   "mimetype": "text/x-python",
   "name": "python",
   "nbconvert_exporter": "python",
   "pygments_lexer": "ipython3",
   "version": "3.7.4"
  }
 },
 "nbformat": 4,
 "nbformat_minor": 4
}
