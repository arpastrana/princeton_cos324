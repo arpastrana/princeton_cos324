{
 "cells": [
  {
   "cell_type": "markdown",
   "metadata": {
    "colab_type": "text",
    "id": "7-_3ncinYhvE"
   },
   "source": [
    "# Image Classification using NN\n",
    "\n",
    "For tutorial on pytorch you can find many tutorials online \n",
    "for starters you can do the 60-minute tutorial by pytorch team at https://pytorch.org/tutorials/beginner/deep_learning_60min_blitz.html\n",
    "\n"
   ]
  },
  {
   "cell_type": "code",
   "execution_count": 24,
   "metadata": {
    "colab": {
     "base_uri": "https://localhost:8080/",
     "height": 34
    },
    "colab_type": "code",
    "id": "C0wvT-bsCCKI",
    "outputId": "0211d9a6-ea67-4118-c18f-de2594f44683"
   },
   "outputs": [
    {
     "name": "stdout",
     "output_type": "stream",
     "text": [
      "cuda:0\n"
     ]
    }
   ],
   "source": [
    "%matplotlib inline\n",
    "import torch as T\n",
    "import numpy as np\n",
    "import os\n",
    "from math import sqrt\n",
    "\n",
    "os.environ['KMP_DUPLICATE_LIB_OK']='True'\n",
    "T.set_default_dtype(T.float)\n",
    "T.manual_seed(0)\n",
    "np.random.seed(0)\n",
    "\n",
    "# Set device to use\n",
    "device = T.device(\"cuda:0\" if T.cuda.is_available() else \"cpu\")\n",
    "print(device)"
   ]
  },
  {
   "cell_type": "markdown",
   "metadata": {
    "colab_type": "text",
    "id": "w3CK2UZ6EeFj"
   },
   "source": [
    "# Buidling the network (MLP)\n",
    "## Single MLP Layer\n",
    "We define a class for a single MLP layer. The input size of this layer is $d_1$ and the output size is $d_2$\n",
    " \n",
    "\n",
    "*   $A$ is a matrix of size $d_1 \\times d_2$ \n",
    "*   $b$ is a row vector of size $d_2$\n",
    "*   input to the layer is a row vector $x$ of size $x$\n",
    "*   $\\phi$ activation function \n",
    "Therefore the output of the layer will be\n",
    "$$\n",
    "  \\phi(xA+b)\n",
    "$$\n",
    "which is a row vector of size $d_2$"
   ]
  },
  {
   "cell_type": "code",
   "execution_count": 25,
   "metadata": {
    "colab": {},
    "colab_type": "code",
    "id": "zH5vc7hMCOvr"
   },
   "outputs": [],
   "source": [
    "class MLP_Layer:\n",
    "    def __init__(self, d1, d2, activation=None ,req_grad=True, device=None):\n",
    "        self.params = []\n",
    "        self.activation = activation\n",
    "\n",
    "        #Defining the learnable parameters and initializing them\n",
    "        self.A = T.empty(d1, d2, requires_grad=req_grad, device=device)\n",
    "        T.nn.init.normal_(self.A, mean=0., std=1. / sqrt(d1))\n",
    "        self.b = T.empty(d2, requires_grad=req_grad, device=device)\n",
    "        T.nn.init.normal_(self.b, mean=0., std=0.1 / sqrt(d1))\n",
    "\n",
    "        self.params.append(self.A)\n",
    "        self.params.append(self.b)\n",
    "\n",
    "    # computer output of the layer given input\n",
    "    def forward(self,x):\n",
    "        x = x @ self.A  + self.b\n",
    "        if self.activation is not None:\n",
    "            x = self.activation(x)\n",
    "        return x"
   ]
  },
  {
   "cell_type": "markdown",
   "metadata": {
    "colab_type": "text",
    "id": "I598-1NOHkcu"
   },
   "source": [
    "## MLP net\n",
    "Using the layer that we defined just now, we define a class for our MLP net. This class initializes an MLP network. it gets as input the size of input, size of output, and a **list of size** for hidden layers.\n",
    "\n"
   ]
  },
  {
   "cell_type": "code",
   "execution_count": 26,
   "metadata": {
    "colab": {},
    "colab_type": "code",
    "id": "oWwKWagdCUSJ"
   },
   "outputs": [],
   "source": [
    "class MLP:\n",
    "    def __init__(self, in_dim, out_dim, list_layers_sz, device=None):\n",
    "        self.in_dim = in_dim\n",
    "        self.out_dim = out_dim\n",
    "\n",
    "        self.layers = []\n",
    "        self.params = []\n",
    "\n",
    "        layers_sz = [in_dim]+list_layers_sz+[out_dim]\n",
    "\n",
    "        for i in range(len(layers_sz)):\n",
    "            if i == 0: continue\n",
    "            \n",
    "            activation = T.tanh\n",
    "            # we don't use activation function for last layer\n",
    "            if i == len(layers_sz)-1:\n",
    "                activation = None\n",
    "            \n",
    "            new_layer = MLP_Layer(layers_sz[i-1],layers_sz[i],activation=activation,req_grad=True,device=device)\n",
    "            \n",
    "            self.layers.append(new_layer)\n",
    "            self.params.extend(new_layer.params)\n",
    "            \n",
    "    #computes output of the network given input\n",
    "    def forward(self, x):\n",
    "        for layer in self.layers:\n",
    "            x = layer.forward(x)\n",
    "        return x\n"
   ]
  },
  {
   "cell_type": "markdown",
   "metadata": {
    "colab_type": "text",
    "id": "2NI3ibGYIW0T"
   },
   "source": [
    "# Loss function \n",
    "We are planning to do binary classification over images therefore we use the logistic loss defined as\n",
    "$$\n",
    "  loss(y,\\hat{y})=\\frac{1}{S}\\sum_{i=1}^{S} \\log(1+e^{-y_i\\hat{y}_i})\n",
    "$$"
   ]
  },
  {
   "cell_type": "code",
   "execution_count": 27,
   "metadata": {
    "colab": {},
    "colab_type": "code",
    "id": "ChcGkVKbCWOl"
   },
   "outputs": [],
   "source": [
    "def logistic_loss(y,y_hat):\n",
    "    y=y.reshape((-1,1))\n",
    "    return T.mean(T.log1p(T.exp(-y*y_hat)))"
   ]
  },
  {
   "cell_type": "markdown",
   "metadata": {
    "colab_type": "text",
    "id": "bSNFGdrcJEVS"
   },
   "source": [
    "## SGD update\n",
    "We write a function that updates the learnable parameters using SGD"
   ]
  },
  {
   "cell_type": "code",
   "execution_count": 28,
   "metadata": {
    "colab": {},
    "colab_type": "code",
    "id": "PKdVZgAyCY9P"
   },
   "outputs": [],
   "source": [
    "def SGD_update(parameters, learning_rate):\n",
    "    with T.no_grad():\n",
    "        for param in parameters:\n",
    "            param -= learning_rate * param.grad\n",
    "            param.grad.zero_() # Otherwise Torch will keep accumulating gradients"
   ]
  },
  {
   "cell_type": "markdown",
   "metadata": {
    "colab_type": "text",
    "id": "GLVJ4WBMKCvB"
   },
   "source": [
    "### Train\n",
    "This function trains the network given $n$ samples in matrix $X$ and labels $y$. \n",
    "\n",
    "\n",
    "*   X has size $n \\times d$\n",
    "*   y has size $n$\n",
    "\n"
   ]
  },
  {
   "cell_type": "code",
   "execution_count": 15,
   "metadata": {
    "colab": {},
    "colab_type": "code",
    "id": "7g6fMq_DCf5I"
   },
   "outputs": [],
   "source": [
    "def train(net, X, y):\n",
    "    epochs = 20\n",
    "    batch_size = 32\n",
    "    learning_rate = 1e-4\n",
    "    n, d = X.size()\n",
    "    losses = []\n",
    "    for ep in range(epochs):\n",
    "        if ep % 2 == 0:\n",
    "            print(\"we are in epoch = %d\" % ep)\n",
    "        # Shuffling rows at the beginning of each epoch\n",
    "        idx = np.arange(n)\n",
    "        np.random.shuffle(idx)\n",
    "        X = X[idx]\n",
    "        y = y[idx]\n",
    "        # for all batches: we compute the loss and update the parameters\n",
    "        for batch_index in range(int(n/batch_size)):\n",
    "            X_batch = X[batch_index*batch_size:(batch_index+1)*batch_size]\n",
    "            y_batch = y[batch_index*batch_size:(batch_index+1)*batch_size]\n",
    "            y_hat = net.forward(X_batch)\n",
    "            loss = logistic_loss(y_batch, y_hat)\n",
    "            loss.backward()\n",
    "            SGD_update(net.params, learning_rate=learning_rate)\n",
    "        # Computing train error at the end of epoch\n",
    "        with T.no_grad():\n",
    "            y_hat = net.forward(X)\n",
    "            loss = logistic_loss(y,y_hat)\n",
    "            losses.append(loss.item())\n",
    "    return losses"
   ]
  },
  {
   "cell_type": "code",
   "execution_count": 16,
   "metadata": {
    "colab": {},
    "colab_type": "code",
    "id": "A_s_07OqCm5c"
   },
   "outputs": [],
   "source": [
    "def myplot(r, logscale=False):\n",
    "    import matplotlib.pyplot as plt\n",
    "    plt.close(), plt.ion(), plt.grid()\n",
    "    _ = plt.xlabel('Epoch', fontsize=12)\n",
    "    _ = plt.ylabel('Loss', fontsize=12)\n",
    "    plt.plot(r, linewidth=2, linestyle='-', marker='o')\n",
    "    if logscale: plt.xscale('log', basex=10.)\n",
    "    plt.show(block=False)\n",
    "\n",
    "# 0-1 loss of our net for data X with label y\n",
    "def error_01(net, X, y):\n",
    "    with T.no_grad():\n",
    "        y_hat = net.forward(T.tensor(X, dtype=T.float,device=dev))\n",
    "        a = np.sign(y_hat.cpu().numpy())\n",
    "        err = 0\n",
    "        for i in range(len(a)):\n",
    "            if np.isclose(a[i], y[i]):\n",
    "                continue\n",
    "            err += 1\n",
    "\n",
    "    return err/len(y)"
   ]
  },
  {
   "cell_type": "markdown",
   "metadata": {
    "colab_type": "text",
    "id": "0qpKrdb5ZT0R"
   },
   "source": [
    "## Making the data set\n",
    "\n",
    "we are using CIFAR10 dataset that you can find the details here https://www.cs.toronto.edu/~kriz/cifar.html\n",
    "\n",
    "We are going to make a binary classification taks by only picking the class #4(deer) and class #8(sheep).\n",
    "\n",
    "\n",
    "\n",
    "*   $X$ i.e. data: is a numpy array of size $n \\times 3 \\times 32 \\times 32$. we have $n$ images each is given in RGB format and has $32 \\times 32$ pixels\n",
    "*   $y$ i.e. labels: is a numpy array of $n$\n",
    "\n",
    "in the following function, we pick the data corresponding to label #4 and #8. Flatten the data $(n,3,32,32)$ to $(n,3\\times32\\times 32)$ and return the result.\n",
    "\n"
   ]
  },
  {
   "cell_type": "code",
   "execution_count": 17,
   "metadata": {
    "colab": {},
    "colab_type": "code",
    "id": "gf7Gz0ZYCo0g"
   },
   "outputs": [],
   "source": [
    "def create_binary_classification(X,y):\n",
    "    import matplotlib.pyplot as plt\n",
    "    # We are only interested in two classed out of 10 labels\n",
    "    class1_label = 4\n",
    "    class2_label = 8\n",
    "\n",
    "    # flattening RGB for each sample (n,3,32,32) to (n,3*32*32)\n",
    "    X = np.reshape(X,(len(X),-1))\n",
    "    y = np.reshape(y,(len(y),-1))\n",
    "\n",
    "    X_new = []\n",
    "    y_new = []\n",
    "\n",
    "    for i in range(np.size(y)):\n",
    "        if y[i] == class1_label:\n",
    "            y_new.append(+1.0)\n",
    "            X_new.append(X[i])\n",
    "        elif y[i]== class2_label:\n",
    "            y_new.append(-1.0)\n",
    "            X_new.append(X[i])\n",
    "\n",
    "    X_new = np.array(X_new,dtype=np.float)\n",
    "    y_new = np.array(y_new,dtype=np.float)\n",
    "\n",
    "    return X_new,y_new\n"
   ]
  },
  {
   "cell_type": "markdown",
   "metadata": {
    "colab_type": "text",
    "id": "sB0oSTTlaw6w"
   },
   "source": [
    "## Loading the dataset CIFAR10"
   ]
  },
  {
   "cell_type": "code",
   "execution_count": 18,
   "metadata": {
    "colab": {
     "base_uri": "https://localhost:8080/",
     "height": 34
    },
    "colab_type": "code",
    "id": "Ypdoztg8atFA",
    "outputId": "83a6999c-21c8-40ea-87d2-15acaccb848a"
   },
   "outputs": [],
   "source": [
    "from keras.datasets import cifar10\n",
    "from matplotlib import pyplot as plt\n",
    "(x_train, y_train), (x_test, y_test) = cifar10.load_data()\n",
    "\n",
    "x_train, y_train = create_binary_classification(x_train, y_train)\n",
    "x_test, y_test = create_binary_classification(x_test, y_test)\n"
   ]
  },
  {
   "cell_type": "code",
   "execution_count": 19,
   "metadata": {
    "colab": {
     "base_uri": "https://localhost:8080/",
     "height": 469
    },
    "colab_type": "code",
    "id": "RSUsdU54tfVU",
    "outputId": "b0458050-5ce8-41ab-8141-95374aaba4ee"
   },
   "outputs": [
    {
     "name": "stdout",
     "output_type": "stream",
     "text": [
      "we are in epoch = 0\n",
      "we are in epoch = 2\n",
      "we are in epoch = 4\n",
      "we are in epoch = 6\n",
      "we are in epoch = 8\n",
      "we are in epoch = 10\n",
      "we are in epoch = 12\n",
      "we are in epoch = 14\n",
      "we are in epoch = 16\n",
      "we are in epoch = 18\n",
      "Accuracy of our predictor on test data85.85 percent\n"
     ]
    },
    {
     "data": {
      "image/png": "[encoded data removed]",
      "text/plain": [
       "<Figure size 432x288 with 1 Axes>"
      ]
     },
     "metadata": {
      "needs_background": "light"
     },
     "output_type": "display_data"
    }
   ],
   "source": [
    "net = MLP(np.shape(x_train)[1], 1, [128, 32], device=dev)\n",
    "losses = train(net, T.tensor(x_train, dtype=T.float,device=dev), T.tensor(y_train, dtype=T.float,device=dev))\n",
    "\n",
    "err = error_01(net,x_test,y_test)\n",
    "print(\"Accuracy of our predictor on test data\"+str(100-100*err)+\" percent\")\n",
    "\n",
    "myplot(losses, logscale=False)"
   ]
  }
 ],
 "metadata": {
  "accelerator": "GPU",
  "colab": {
   "name": "COS324_NN_Tutorial.ipynb",
   "provenance": []
  },
  "kernelspec": {
   "display_name": "Python 3",
   "language": "python",
   "name": "python3"
  },
  "language_info": {
   "codemirror_mode": {
    "name": "ipython",
    "version": 3
   },
   "file_extension": ".py",
   "mimetype": "text/x-python",
   "name": "python",
   "nbconvert_exporter": "python",
   "pygments_lexer": "ipython3",
   "version": "3.7.4"
  },
  "pycharm": {
   "stem_cell": {
    "cell_type": "raw",
    "metadata": {
     "collapsed": false
    },
    "source": []
   }
  }
 },
 "nbformat": 4,
 "nbformat_minor": 1
}
