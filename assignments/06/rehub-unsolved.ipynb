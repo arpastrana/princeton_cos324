{
 "cells": [
  {
   "cell_type": "markdown",
   "metadata": {},
   "source": [
    "# The Rehub Loss\n",
    "\n",
    "\n",
    "You are required to investigate a regularized update for SGD with the following regularization function:\n",
    "$\\phi(\\mathbf{w}) = \\sum_{j=1}^d h(w_j)$, where $h$ is a scalar function, $h: \\mathbb{R} \\to \\mathbb{R}_+$ defined as,\n",
    "$$\n",
    "h(z) =\n",
    "  \\begin{cases}\n",
    "    |z|      &  |z| \\geq 1 \\\\\n",
    "    a z^2  + c & \\text{o.w.}\n",
    "  \\end{cases} ~ ,\n",
    "$$\n",
    "with $a,c\\in\\mathbb{R}_+$.\n",
    "\n",
    "The core of the regularization, the function $h(z)$, must be continous. Its derivative, $h'(z)$, should be continous everywhere. We use SGD to approximately find the minimum of,\n",
    "$\\mathcal{L}(\\mathbf{w}) + \\lambda \\phi(\\mathbf{w})$. The empirical loss $\\mathcal{L}(\\mathbf{w})$ is a convex function. It was constructed such that $\\mathcal{L}(\\mathbf{0})=1$ and $\\mathcal{L}(\\mathbf{w}) \\geq 0$.\n",
    "\n",
    "1. Determine the values of $a$ and $c$. Using matplotlib, plot $h(z)$ and $h'(z)$ for $z\\in[-3,3]$.\n",
    "\n",
    "\n",
    "2. Let $\\mathbf{w}^\\star$ denote the optimal solution of the regularized problem,\n",
    "   $\\mathbf{w}^\\star = \\arg\\min_{\\mathbf{w}} \\mathcal{L}(\\mathbf{w}) + \\lambda \\phi(\\mathbf{w})$. Use\n",
    "   the value of the regularized loss at the optimum and the initial value at $\\mathbf{0}$ to bound\n",
    "   $\\|\\mathbf{w}^\\star\\|$ when $\\lambda\\geq2$.\n",
    "\n",
    "\n",
    "3. Given your answer to (2), would $\\phi(\\mathbf{w})$ promote sparse or diverse solutions when\n",
    "   $\\lambda \\geq 2$? Explain in 2-4 lines.\n",
    "\n",
    "\n",
    "4. Derive a SGD update with $\\phi(\\mathbf{w})$ as the regularization function and $\\lambda=3$. You can use\n",
    "   the variables $\\mathbf{w}_t$, $\\mathbf{w}_{t+1}$, $\\mathbf{g}_t$, and $\\eta_t$ as used in class."
   ]
  }
 ],
 "metadata": {
  "kernelspec": {
   "display_name": "Python 3",
   "language": "python",
   "name": "python3"
  },
  "language_info": {
   "codemirror_mode": {
    "name": "ipython",
    "version": 3
   },
   "file_extension": ".py",
   "mimetype": "text/x-python",
   "name": "python",
   "nbconvert_exporter": "python",
   "pygments_lexer": "ipython3",
   "version": "3.7.6"
  }
 },
 "nbformat": 4,
 "nbformat_minor": 4
}
