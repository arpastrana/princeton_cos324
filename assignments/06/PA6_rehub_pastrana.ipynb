{
  "nbformat": 4,
  "nbformat_minor": 0,
  "metadata": {
    "kernelspec": {
      "display_name": "Python 3",
      "language": "python",
      "name": "python3"
    },
    "language_info": {
      "codemirror_mode": {
        "name": "ipython",
        "version": 3
      },
      "file_extension": ".py",
      "mimetype": "text/x-python",
      "name": "python",
      "nbconvert_exporter": "python",
      "pygments_lexer": "ipython3",
      "version": "3.7.6"
    },
    "colab": {
      "name": "PA6_rehub_pastrana.ipynb",
      "provenance": [],
      "collapsed_sections": []
    }
  },
  "cells": [
    {
      "cell_type": "markdown",
      "metadata": {
        "id": "s2uZ2KJylJE4",
        "colab_type": "text"
      },
      "source": [
        "# The Rehub Loss\n",
        "\n",
        "\n",
        "You are required to investigate a regularized update for SGD with the following regularization function:\n",
        "$\\phi(\\mathbf{w}) = \\sum_{j=1}^d h(w_j)$, where $h$ is a scalar function, $h: \\mathbb{R} \\to \\mathbb{R}_+$ defined as,\n",
        "$$\n",
        "h(z) =\n",
        "  \\begin{cases}\n",
        "    |z|      &  |z| \\geq 1 \\\\\n",
        "    a z^2  + c & \\text{o.w.}\n",
        "  \\end{cases} ~ ,\n",
        "$$\n",
        "with $a,c\\in\\mathbb{R}_+$.\n",
        "\n",
        "The core of the regularization, the function $h(z)$, must be continous. Its derivative, $h'(z)$, should be continous everywhere. We use SGD to approximately find the minimum of,\n",
        "$\\mathcal{L}(\\mathbf{w}) + \\lambda \\phi(\\mathbf{w})$. The empirical loss $\\mathcal{L}(\\mathbf{w})$ is a convex function. It was constructed such that $\\mathcal{L}(\\mathbf{0})=1$ and $\\mathcal{L}(\\mathbf{w}) \\geq 0$.\n",
        "\n",
        "1. Determine the values of $a$ and $c$. Using matplotlib, plot $h(z)$ and $h'(z)$ for $z\\in[-3,3]$.\n",
        "\n",
        "\n",
        "2. Let $\\mathbf{w}^\\star$ denote the optimal solution of the regularized problem,\n",
        "   $\\mathbf{w}^\\star = \\arg\\min_{\\mathbf{w}} \\mathcal{L}(\\mathbf{w}) + \\lambda \\phi(\\mathbf{w})$. Use\n",
        "   the value of the regularized loss at the optimum and the initial value at $\\mathbf{0}$ to bound\n",
        "   $\\|\\mathbf{w}^\\star\\|$ when $\\lambda\\geq2$.\n",
        "\n",
        "\n",
        "3. Given your answer to (2), would $\\phi(\\mathbf{w})$ promote sparse or diverse solutions when\n",
        "   $\\lambda \\geq 2$? Explain in 2-4 lines.\n",
        "\n",
        "\n",
        "4. Derive a SGD update with $\\phi(\\mathbf{w})$ as the regularization function and $\\lambda=3$. You can use\n",
        "   the variables $\\mathbf{w}_t$, $\\mathbf{w}_{t+1}$, $\\mathbf{g}_t$, and $\\eta_t$ as used in class."
      ]
    },
    {
      "cell_type": "markdown",
      "metadata": {
        "id": "YR_Mfx3Q1rDq",
        "colab_type": "text"
      },
      "source": [
        "### Answer 1\n",
        "To find continuity between the two parts of $h(z)$, I would first match the slope of the cuadratic part to that of the linear part at a boundary value, say when $z=1$. In other words:\n",
        "\n",
        "$$\n",
        "\\frac{dh(z)}{dz} = 2az\n",
        "$$\n",
        "\n",
        "$$\n",
        "\\frac{dh(z)}{dz} = \\frac{z}{|z|}\n",
        "$$\n",
        "\n",
        "Evaluating when $z=1$ and equating:\n",
        "$$\n",
        "2a(1) = 1\n",
        "$$\n",
        "$$\n",
        "a = \\frac{1}{2}\n",
        "$$\n",
        "\n",
        "\n",
        "Now we match their positions when $z=1$ to find $c$:\n",
        "\n",
        "$$\n",
        "\\frac{z^2}{2} + c = |z|\n",
        "$$\n",
        "\n",
        "$$\n",
        "\\frac{1}{2} + c = 1\n",
        "$$\n",
        "\n",
        "$$\n",
        "c = \\frac{1}{2}\n",
        "$$\n",
        "\n",
        "\n",
        "Therefore, we have that:\n",
        "$$\n",
        "a = c = \\frac{1}{2}\n",
        "$$"
      ]
    },
    {
      "cell_type": "code",
      "metadata": {
        "id": "8CRfUGajlqLp",
        "colab_type": "code",
        "colab": {}
      },
      "source": [
        "import numpy as np\n",
        "import matplotlib.pyplot as plt"
      ],
      "execution_count": 0,
      "outputs": []
    },
    {
      "cell_type": "code",
      "metadata": {
        "id": "CzmYaTPXF5Gj",
        "colab_type": "code",
        "outputId": "0a8afc3e-a6b9-4532-f25b-fcee9cd05a83",
        "colab": {
          "base_uri": "https://localhost:8080/",
          "height": 84
        }
      },
      "source": [
        "def h_of_z(z, a, c):\n",
        "    h = np.zeros(z.shape)\n",
        "    h[np.abs(z)>=1] = np.abs(z[np.abs(z)>=1])\n",
        "    h[np.abs(z)<1] = a * z[np.abs(z)<1]**2 + c\n",
        "    return h\n",
        "\n",
        "\n",
        "# test\n",
        "def test():\n",
        "    z = np.linspace(-1.0, 1.0, 10)\n",
        "    a = 2.0\n",
        "    c = 0.0    \n",
        "    print('z', z)\n",
        "    print('h', h_of_z(z, a, c))\n",
        "\n",
        "test()"
      ],
      "execution_count": 0,
      "outputs": [
        {
          "output_type": "stream",
          "text": [
            "z [-1.         -0.77777778 -0.55555556 -0.33333333 -0.11111111  0.11111111\n",
            "  0.33333333  0.55555556  0.77777778  1.        ]\n",
            "h [1.         1.20987654 0.61728395 0.22222222 0.02469136 0.02469136\n",
            " 0.22222222 0.61728395 1.20987654 1.        ]\n"
          ],
          "name": "stdout"
        }
      ]
    },
    {
      "cell_type": "code",
      "metadata": {
        "id": "XucxORMZGrIJ",
        "colab_type": "code",
        "outputId": "ec6011cf-b3d6-4ceb-a142-42768b02409d",
        "colab": {
          "base_uri": "https://localhost:8080/",
          "height": 84
        }
      },
      "source": [
        "def h_of_z_derivative(z, a, c):\n",
        "    h = np.zeros(z.shape)\n",
        "    h[np.abs(z)>=1] = z[np.abs(z)>=1] / np.abs(z[np.abs(z)>=1])\n",
        "    h[np.abs(z)<1] = a * 2 * z[np.abs(z)<1]\n",
        "    return h\n",
        "\n",
        "\n",
        "# test\n",
        "def test():\n",
        "    z = np.linspace(-1.0, 1.0, 10)\n",
        "    a = 2.0\n",
        "    c = 0.0    \n",
        "    print('z', z)\n",
        "    print('h derivative', h_of_z_derivative(z, a, c))\n",
        "\n",
        "test()"
      ],
      "execution_count": 0,
      "outputs": [
        {
          "output_type": "stream",
          "text": [
            "z [-1.         -0.77777778 -0.55555556 -0.33333333 -0.11111111  0.11111111\n",
            "  0.33333333  0.55555556  0.77777778  1.        ]\n",
            "h derivative [-1.         -3.11111111 -2.22222222 -1.33333333 -0.44444444  0.44444444\n",
            "  1.33333333  2.22222222  3.11111111  1.        ]\n"
          ],
          "name": "stdout"
        }
      ]
    },
    {
      "cell_type": "code",
      "metadata": {
        "id": "MsmR47IWLsZq",
        "colab_type": "code",
        "outputId": "efc7ccb2-bc25-4349-f447-efce8ee075d1",
        "colab": {
          "base_uri": "https://localhost:8080/",
          "height": 334
        }
      },
      "source": [
        "# Determine the values of a and c.\n",
        "# Using matplotlib, plot ℎ(𝑧) and ℎ′(𝑧)  for  𝑧∈[−3,3].\n",
        "# Selection\n",
        "\n",
        "a = 0.5\n",
        "c = 0.5\n",
        "z = np.linspace(-3, 3, num=100)\n",
        "\n",
        "h = h_of_z(z, a, c)\n",
        "hprime = h_of_z_derivative(z, a, c)\n",
        "\n",
        "fig = plt.figure(figsize=(8, 4))\n",
        "plt.title(\"h(z)\")\n",
        "\n",
        "plt.plot(z, h, '-', label=\"function\")\n",
        "plt.plot(z, hprime, '--', label=\"derivative\")\n",
        "\n",
        "plt.axes()\n",
        "plt.legend()"
      ],
      "execution_count": 0,
      "outputs": [
        {
          "output_type": "stream",
          "text": [
            "/usr/local/lib/python3.6/dist-packages/ipykernel_launcher.py:18: MatplotlibDeprecationWarning: Adding an axes using the same arguments as a previous axes currently reuses the earlier instance.  In a future version, a new instance will always be created and returned.  Meanwhile, this warning can be suppressed, and the future behavior ensured, by passing a unique label to each axes instance.\n"
          ],
          "name": "stderr"
        },
        {
          "output_type": "execute_result",
          "data": {
            "text/plain": [
              "<matplotlib.legend.Legend at 0x7f9b74c059e8>"
            ]
          },
          "metadata": {
            "tags": []
          },
          "execution_count": 4
        },
        {
          "output_type": "display_data",
          "data": {
            "image/png": "[encoded data removed]",
            "text/plain": [
              "<Figure size 576x288 with 1 Axes>"
            ]
          },
          "metadata": {
            "tags": [],
            "needs_background": "light"
          }
        }
      ]
    },
    {
      "cell_type": "markdown",
      "metadata": {
        "id": "3DhAGMAAdTFZ",
        "colab_type": "text"
      },
      "source": [
        "### Answer 2\n",
        "\n",
        "Let's recall that by construction:\n",
        "\n",
        "$$\n",
        "\\mathcal{L}(\\mathbf{0})\n",
        "+\n",
        "\\lambda\\phi(\\mathbf{0})\n",
        "\\geq\n",
        "\\mathcal{L}(\\mathbf{w^{\\star}})\n",
        "+\n",
        "\\lambda\\phi(\\mathbf{w^{\\star}})\n",
        "\\geq \n",
        "\\lambda\\phi(\\mathbf{w^{\\star}})\n",
        "$$\n",
        "\n",
        "When $\\mathbf{w} = \\mathbf{0}$:\n",
        "\n",
        "$$\n",
        "\\lambda\n",
        "\\phi(\\mathbf{0})\n",
        "= \n",
        "\\lambda\\sum_{j=1}^d c\n",
        "=\n",
        "\\lambda\\sum_{j=1}^d \\frac{1}{2}\n",
        "$$\n",
        "\n",
        "With $\\mathcal{L}(\\mathbf{0}) = 1$, this implies that:\n",
        "\n",
        "$$\n",
        "1 + \\lambda\\sum_{j=1}^d \\frac{1}{2}\n",
        "\\geq\n",
        "\\lambda\n",
        "\\phi(\\mathbf{w^{\\star}})\n",
        "$$\n",
        "\n",
        "$$\n",
        "\\frac{1}{\\lambda} + \\sum_{j=1}^d \\frac{1}{2}\n",
        "\\geq\n",
        "\\phi(\\mathbf{w^{\\star}})\n",
        "=\n",
        "\\sum_{j=1}^d h(w_j^{\\star})\n",
        "$$\n",
        "\n",
        "$$\n",
        "\\frac{1}{\\lambda}\n",
        "\\geq\n",
        "\\sum_{j=1}^d h(w_j^{\\star})\n",
        "-\n",
        "\\sum_{j=1}^d \\frac{1}{2}\n",
        "$$\n",
        "\n",
        "$$\n",
        "\\frac{1}{\\lambda}\n",
        "\\geq\n",
        "\\sum_{j=1}^dh(w_j^{\\star})-\\frac{1}{2}\n",
        "$$\n",
        "\n",
        "Since ${\\lambda} \\geq 2$:\n",
        "$$\n",
        "\\frac{1}{2}\n",
        "\\geq\n",
        "\\frac{1}{\\lambda}\n",
        "\\geq\n",
        "\\sum_{j=1}^dh(w_j^{\\star})-\\frac{1}{2}\n",
        "$$\n",
        "\n",
        "For this condition to be true it implies the output of $\\sum_{j=1}^dh(w_j^{\\star})$ has to be $1$ at most ($\\frac{1}{2} = 1 - \\frac{1}{2} $), which means that the entries of $\\mathbf{w}^{\\star}$ have to be in the range $-1 < w_j < 1$, and thus belong only to the case where $h(z) = az^2 + c$.\n",
        "\n",
        "Rewriting:\n",
        "\n",
        "$$\n",
        "\\frac{1}{\\lambda}\n",
        "\\geq\n",
        "\\sum_{j=1}^d\\frac{1}{2}w_j^{\\star2} + \\frac{1}{2} - \\frac{1}{2}\n",
        "=\n",
        "\\sum_{j=1}^d\\frac{1}{2}w_j^{\\star2}\n",
        "$$\n",
        "\n",
        "Solving:\n",
        "\n",
        "$$\n",
        "\\frac{2}{\\lambda}\n",
        "\\geq\n",
        "\\sum_{j=1}^dw_j^{\\star2}\n",
        "$$\n",
        "\n",
        "The right part of the equation already looks like $||\\mathbf{w}||$. To complete it, we apply square root both sides of the equation:\n",
        "\n",
        "$$\n",
        "\\sqrt{\\frac{2}{\\lambda}}\n",
        "\\geq\n",
        "\\sqrt{\\sum_{j=1}^dw_j^{\\star2}}\n",
        "$$\n",
        "\n",
        "Therefore:\n",
        "$$\n",
        "\\sqrt{\\frac{2}{\\lambda}}\n",
        "\\geq\n",
        "||\\mathbf{w^{\\star}}||\n",
        "$$"
      ]
    },
    {
      "cell_type": "markdown",
      "metadata": {
        "id": "MXD6dVhYdWLa",
        "colab_type": "text"
      },
      "source": [
        "### Answer 3\n",
        "\n",
        "The answer of question 2 showed that the entries of $\\mathbf{w}^{\\star}$ have to be in the range of -1 to 1 with $\\lambda \\geq 2$. Therefore we can conclude that $\\phi(\\mathbf{w})$ will promote solutions within this range, where $h(z) = \\frac{1}{2}z^2  + {\\frac{1}{2}}$. Because of the quatratic term, and similar to the L2 regularization, this will favor diverse solutions that distribute risk among all entries in $\\mathbf{w}$.\n",
        "\n",
        "Doing a quick test on the dataset from slide 25 in the regularization lecture helps us understand better:\n",
        "\n",
        "$$\n",
        "X = [[0, 1], [1, 1], [-1, -1], [-1, 0]]\n",
        "$$\n",
        "$$\n",
        "y = [-1, 1, -1, 1]\n",
        "$$\n",
        "$$\n",
        "W = [[0.5, 0.5], [0, 1], [1, 0]]\n",
        "$$\n",
        "\n",
        "Using $\\mathcal{L} = [1 - y(\\mathbf{w} * \\mathbf{x})]_{+}$, the losses for $W$ without regularization are:\n",
        "\n",
        "$$\n",
        "\\mathcal{L}([0.5, 0.5]) = \\mathcal{L}([0, 1]) = \\mathcal{L}([1, 0]) = \\frac{3}{4}\n",
        "$$\n",
        "\n",
        "Conversely, with regularization:\n",
        "$$\n",
        "\\mathcal{L}([0.5, 0.5]) = \\frac{3}{4} + \\frac{10}{8}\\lambda\n",
        "$$\n",
        "$$\n",
        "\\mathcal{L}([0, 1]) = \\mathcal{L}([1, 0]) = \\frac{3}{4} + \\frac{12}{8}\\lambda\n",
        "$$\n",
        "\n",
        "Lowest loss is achieved with $\\mathbf{w} = [0.5, 0.5]$ (non-sparse)."
      ]
    },
    {
      "cell_type": "markdown",
      "metadata": {
        "id": "ubdmKp6glRf9",
        "colab_type": "text"
      },
      "source": [
        "### Answer 4\n",
        "\n",
        "Following from question 2:\n",
        "\n",
        "$$\n",
        "\\nabla \\phi(\\mathbf{w}) = \\frac{\\partial}{\\partial w_j}\\sum_{j=1}^{d}\\frac{1}{2}w_j^2 + \\frac{1}{2} = \\sum_{j=1}^{d}w_j = \\mathbf{w}\n",
        "$$\n",
        "\n",
        "$$\n",
        "\\nabla_{\\mathbf{w}} \\left[ \\mathcal{L}(\\mathbf{w}) + \\lambda \\phi (\\mathbf{w})  \\right]\n",
        "= \n",
        "\\nabla_{\\mathbf{w}} \\mathcal{L}(\\mathbf{w}) + \\lambda \\mathbf{w}\n",
        "=\n",
        "\\nabla_{\\mathbf{w}} \\mathcal{L}(\\mathbf{w}) + 3 \\mathbf{w}\n",
        "$$\n",
        "\n",
        "For SGD:\n",
        "$$\n",
        "\\frac{1}{|S|} \\sum_{i \\in S} \\nabla_{\\mathbf{w}} \\mathcal{l_i}(\\mathbf{w}_t) + 3 \\mathbf{w}_t\n",
        "=\n",
        "\\mathbf{g}_t + 3 \\mathbf{w}_t\n",
        "$$\n",
        "\n",
        "Update:\n",
        "$$\n",
        "\\mathbf{w}_{t+1} \\leftarrow \\mathbf{w}_{t} - \\eta_{t} (\\mathbf{g}_t + 3 \\mathbf{w}_t)\n",
        "$$\n",
        "\n",
        "\n",
        "However, to ensure that we operate in this range and avoid entering the second case of $h(z)$ where a L1-regularization-style gradient would apply too, we can use the projection technique and constrain the norm of $\\mathbf{w}$ to fit inside of a ball when it exceeds radius $\\sqrt{\\frac{2}{3}}$ at each update step of the SGD.\n",
        "\n",
        "$$\n",
        "\\mathbf{w}_{t+1}\n",
        "=\n",
        "\\sqrt{\\frac{2}{3}}\n",
        "\\frac{\\mathbf{w}_{t+1}}{||\\mathbf{w}_{t+1}||}\n",
        "$$"
      ]
    },
    {
      "cell_type": "code",
      "metadata": {
        "id": "vAtlTw3RN3XP",
        "colab_type": "code",
        "colab": {}
      },
      "source": [
        ""
      ],
      "execution_count": 0,
      "outputs": []
    }
  ]
}